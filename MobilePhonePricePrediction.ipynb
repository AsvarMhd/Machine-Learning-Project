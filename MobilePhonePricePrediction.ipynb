{
 "cells": [
  {
   "cell_type": "code",
   "execution_count": 305,
   "id": "68080c7e-9320-45e8-95a6-890acb75572e",
   "metadata": {},
   "outputs": [],
   "source": [
    "import numpy as np\n",
    "import pandas as pd\n",
    "import matplotlib.pyplot as plt\n",
    "import seaborn as sns\n",
    "import re\n",
    "import plotly.figure_factory as ff"
   ]
  },
  {
   "cell_type": "code",
   "execution_count": 306,
   "id": "ea4fc00a-d5c5-480c-b990-b2ba5e220214",
   "metadata": {},
   "outputs": [
    {
     "data": {
      "text/html": [
       "<div>\n",
       "<style scoped>\n",
       "    .dataframe tbody tr th:only-of-type {\n",
       "        vertical-align: middle;\n",
       "    }\n",
       "\n",
       "    .dataframe tbody tr th {\n",
       "        vertical-align: top;\n",
       "    }\n",
       "\n",
       "    .dataframe thead th {\n",
       "        text-align: right;\n",
       "    }\n",
       "</style>\n",
       "<table border=\"1\" class=\"dataframe\">\n",
       "  <thead>\n",
       "    <tr style=\"text-align: right;\">\n",
       "      <th></th>\n",
       "      <th>Unnamed: 0</th>\n",
       "      <th>Name</th>\n",
       "      <th>Rating</th>\n",
       "      <th>Spec_score</th>\n",
       "      <th>No_of_sim</th>\n",
       "      <th>Ram</th>\n",
       "      <th>Battery</th>\n",
       "      <th>Display</th>\n",
       "      <th>Camera</th>\n",
       "      <th>External_Memory</th>\n",
       "      <th>Android_version</th>\n",
       "      <th>Price</th>\n",
       "      <th>company</th>\n",
       "      <th>Inbuilt_memory</th>\n",
       "      <th>fast_charging</th>\n",
       "      <th>Screen_resolution</th>\n",
       "      <th>Processor</th>\n",
       "      <th>Processor_name</th>\n",
       "    </tr>\n",
       "  </thead>\n",
       "  <tbody>\n",
       "    <tr>\n",
       "      <th>0</th>\n",
       "      <td>0</td>\n",
       "      <td>Samsung Galaxy F14 5G</td>\n",
       "      <td>4.65</td>\n",
       "      <td>68</td>\n",
       "      <td>Dual Sim, 3G, 4G, 5G, VoLTE,</td>\n",
       "      <td>4 GB RAM</td>\n",
       "      <td>6000 mAh Battery</td>\n",
       "      <td>6.6 inches</td>\n",
       "      <td>50 MP + 2 MP Dual Rear &amp;amp; 13 MP Front Camera</td>\n",
       "      <td>Memory Card Supported, upto 1 TB</td>\n",
       "      <td>13</td>\n",
       "      <td>9,999</td>\n",
       "      <td>Samsung</td>\n",
       "      <td>128 GB inbuilt</td>\n",
       "      <td>25W Fast Charging</td>\n",
       "      <td>2408 x 1080 px Display with Water Drop Notch</td>\n",
       "      <td>Octa Core Processor</td>\n",
       "      <td>Exynos 1330</td>\n",
       "    </tr>\n",
       "    <tr>\n",
       "      <th>1</th>\n",
       "      <td>1</td>\n",
       "      <td>Samsung Galaxy A11</td>\n",
       "      <td>4.20</td>\n",
       "      <td>63</td>\n",
       "      <td>Dual Sim, 3G, 4G, VoLTE,</td>\n",
       "      <td>2 GB RAM</td>\n",
       "      <td>4000 mAh Battery</td>\n",
       "      <td>6.4 inches</td>\n",
       "      <td>13 MP + 5 MP + 2 MP Triple Rear &amp;amp; 8 MP Fro...</td>\n",
       "      <td>Memory Card Supported, upto 512 GB</td>\n",
       "      <td>10</td>\n",
       "      <td>9,990</td>\n",
       "      <td>Samsung</td>\n",
       "      <td>32 GB inbuilt</td>\n",
       "      <td>15W Fast Charging</td>\n",
       "      <td>720 x 1560 px Display with Punch Hole</td>\n",
       "      <td>1.8 GHz Processor</td>\n",
       "      <td>Octa Core</td>\n",
       "    </tr>\n",
       "    <tr>\n",
       "      <th>2</th>\n",
       "      <td>2</td>\n",
       "      <td>Samsung Galaxy A13</td>\n",
       "      <td>4.30</td>\n",
       "      <td>75</td>\n",
       "      <td>Dual Sim, 3G, 4G, VoLTE,</td>\n",
       "      <td>4 GB RAM</td>\n",
       "      <td>5000 mAh Battery</td>\n",
       "      <td>6.6 inches</td>\n",
       "      <td>50 MP Quad Rear &amp;amp; 8 MP Front Camera</td>\n",
       "      <td>Memory Card Supported, upto 1 TB</td>\n",
       "      <td>12</td>\n",
       "      <td>11,999</td>\n",
       "      <td>Samsung</td>\n",
       "      <td>64 GB inbuilt</td>\n",
       "      <td>25W Fast Charging</td>\n",
       "      <td>1080 x 2408 px Display with Water Drop Notch</td>\n",
       "      <td>2 GHz Processor</td>\n",
       "      <td>Octa Core</td>\n",
       "    </tr>\n",
       "    <tr>\n",
       "      <th>3</th>\n",
       "      <td>3</td>\n",
       "      <td>Samsung Galaxy F23</td>\n",
       "      <td>4.10</td>\n",
       "      <td>73</td>\n",
       "      <td>Dual Sim, 3G, 4G, VoLTE,</td>\n",
       "      <td>4 GB RAM</td>\n",
       "      <td>6000 mAh Battery</td>\n",
       "      <td>6.4 inches</td>\n",
       "      <td>48 MP Quad Rear &amp;amp; 13 MP Front Camera</td>\n",
       "      <td>Memory Card Supported, upto 1 TB</td>\n",
       "      <td>12</td>\n",
       "      <td>11,999</td>\n",
       "      <td>Samsung</td>\n",
       "      <td>64 GB inbuilt</td>\n",
       "      <td>NaN</td>\n",
       "      <td>720 x 1600 px</td>\n",
       "      <td>Octa Core</td>\n",
       "      <td>Helio G88</td>\n",
       "    </tr>\n",
       "    <tr>\n",
       "      <th>4</th>\n",
       "      <td>4</td>\n",
       "      <td>Samsung Galaxy A03s (4GB RAM + 64GB)</td>\n",
       "      <td>4.10</td>\n",
       "      <td>69</td>\n",
       "      <td>Dual Sim, 3G, 4G, VoLTE,</td>\n",
       "      <td>4 GB RAM</td>\n",
       "      <td>5000 mAh Battery</td>\n",
       "      <td>6.5 inches</td>\n",
       "      <td>13 MP + 2 MP + 2 MP Triple Rear &amp;amp; 5 MP Fro...</td>\n",
       "      <td>Memory Card Supported, upto 1 TB</td>\n",
       "      <td>11</td>\n",
       "      <td>11,999</td>\n",
       "      <td>Samsung</td>\n",
       "      <td>64 GB inbuilt</td>\n",
       "      <td>15W Fast Charging</td>\n",
       "      <td>720 x 1600 px Display with Water Drop Notch</td>\n",
       "      <td>Octa Core</td>\n",
       "      <td>Helio P35</td>\n",
       "    </tr>\n",
       "  </tbody>\n",
       "</table>\n",
       "</div>"
      ],
      "text/plain": [
       "   Unnamed: 0                                  Name  Rating  Spec_score  \\\n",
       "0           0                 Samsung Galaxy F14 5G    4.65          68   \n",
       "1           1                    Samsung Galaxy A11    4.20          63   \n",
       "2           2                    Samsung Galaxy A13    4.30          75   \n",
       "3           3                    Samsung Galaxy F23    4.10          73   \n",
       "4           4  Samsung Galaxy A03s (4GB RAM + 64GB)    4.10          69   \n",
       "\n",
       "                       No_of_sim       Ram            Battery     Display  \\\n",
       "0  Dual Sim, 3G, 4G, 5G, VoLTE,   4 GB RAM  6000 mAh Battery   6.6 inches   \n",
       "1      Dual Sim, 3G, 4G, VoLTE,   2 GB RAM  4000 mAh Battery   6.4 inches   \n",
       "2      Dual Sim, 3G, 4G, VoLTE,   4 GB RAM  5000 mAh Battery   6.6 inches   \n",
       "3      Dual Sim, 3G, 4G, VoLTE,   4 GB RAM   6000 mAh Battery  6.4 inches   \n",
       "4      Dual Sim, 3G, 4G, VoLTE,   4 GB RAM  5000 mAh Battery   6.5 inches   \n",
       "\n",
       "                                              Camera  \\\n",
       "0    50 MP + 2 MP Dual Rear &amp; 13 MP Front Camera   \n",
       "1  13 MP + 5 MP + 2 MP Triple Rear &amp; 8 MP Fro...   \n",
       "2            50 MP Quad Rear &amp; 8 MP Front Camera   \n",
       "3           48 MP Quad Rear &amp; 13 MP Front Camera   \n",
       "4  13 MP + 2 MP + 2 MP Triple Rear &amp; 5 MP Fro...   \n",
       "\n",
       "                      External_Memory Android_version   Price  company  \\\n",
       "0    Memory Card Supported, upto 1 TB              13   9,999  Samsung   \n",
       "1  Memory Card Supported, upto 512 GB              10   9,990  Samsung   \n",
       "2    Memory Card Supported, upto 1 TB              12  11,999  Samsung   \n",
       "3    Memory Card Supported, upto 1 TB              12  11,999  Samsung   \n",
       "4    Memory Card Supported, upto 1 TB              11  11,999  Samsung   \n",
       "\n",
       "    Inbuilt_memory       fast_charging  \\\n",
       "0   128 GB inbuilt   25W Fast Charging   \n",
       "1    32 GB inbuilt   15W Fast Charging   \n",
       "2    64 GB inbuilt   25W Fast Charging   \n",
       "3    64 GB inbuilt                 NaN   \n",
       "4    64 GB inbuilt   15W Fast Charging   \n",
       "\n",
       "                               Screen_resolution             Processor  \\\n",
       "0   2408 x 1080 px Display with Water Drop Notch   Octa Core Processor   \n",
       "1          720 x 1560 px Display with Punch Hole     1.8 GHz Processor   \n",
       "2   1080 x 2408 px Display with Water Drop Notch       2 GHz Processor   \n",
       "3                                  720 x 1600 px             Octa Core   \n",
       "4    720 x 1600 px Display with Water Drop Notch             Octa Core   \n",
       "\n",
       "  Processor_name  \n",
       "0    Exynos 1330  \n",
       "1      Octa Core  \n",
       "2      Octa Core  \n",
       "3      Helio G88  \n",
       "4      Helio P35  "
      ]
     },
     "execution_count": 306,
     "metadata": {},
     "output_type": "execute_result"
    }
   ],
   "source": [
    "df = pd.read_csv('mobile phone price prediction.csv')\n",
    "df.head(5)"
   ]
  },
  {
   "cell_type": "markdown",
   "id": "65315ad6",
   "metadata": {},
   "source": [
    "# Data Cleaning\n",
    "### -Removing Unwanted Columns\n",
    "### -Filling Null and Nan Values"
   ]
  },
  {
   "cell_type": "code",
   "execution_count": 307,
   "id": "a4b08352-4a2a-4714-9bc6-d4e972107124",
   "metadata": {},
   "outputs": [
    {
     "data": {
      "text/plain": [
       "(1370, 18)"
      ]
     },
     "execution_count": 307,
     "metadata": {},
     "output_type": "execute_result"
    }
   ],
   "source": [
    "##Shows the shape of dataset Row, column\n",
    "df.shape"
   ]
  },
  {
   "cell_type": "code",
   "execution_count": 308,
   "id": "2b843a8b-357a-48e2-827e-5a1fa8f1b844",
   "metadata": {},
   "outputs": [
    {
     "data": {
      "text/plain": [
       "Index(['Unnamed: 0', 'Name', 'Rating', 'Spec_score', 'No_of_sim', 'Ram',\n",
       "       'Battery', 'Display', 'Camera', 'External_Memory', 'Android_version',\n",
       "       'Price', 'company', 'Inbuilt_memory', 'fast_charging',\n",
       "       'Screen_resolution', 'Processor', 'Processor_name'],\n",
       "      dtype='object')"
      ]
     },
     "execution_count": 308,
     "metadata": {},
     "output_type": "execute_result"
    }
   ],
   "source": [
    "#print all column names in dataset\n",
    "df.columns"
   ]
  },
  {
   "cell_type": "code",
   "execution_count": 309,
   "id": "986e859e-68d1-449c-9224-33d29bb694e6",
   "metadata": {},
   "outputs": [
    {
     "name": "stdout",
     "output_type": "stream",
     "text": [
      "<class 'pandas.core.frame.DataFrame'>\n",
      "RangeIndex: 1370 entries, 0 to 1369\n",
      "Data columns (total 18 columns):\n",
      " #   Column             Non-Null Count  Dtype  \n",
      "---  ------             --------------  -----  \n",
      " 0   Unnamed: 0         1370 non-null   int64  \n",
      " 1   Name               1370 non-null   object \n",
      " 2   Rating             1370 non-null   float64\n",
      " 3   Spec_score         1370 non-null   int64  \n",
      " 4   No_of_sim          1370 non-null   object \n",
      " 5   Ram                1370 non-null   object \n",
      " 6   Battery            1370 non-null   object \n",
      " 7   Display            1370 non-null   object \n",
      " 8   Camera             1370 non-null   object \n",
      " 9   External_Memory    1370 non-null   object \n",
      " 10  Android_version    927 non-null    object \n",
      " 11  Price              1370 non-null   object \n",
      " 12  company            1370 non-null   object \n",
      " 13  Inbuilt_memory     1351 non-null   object \n",
      " 14  fast_charging      1281 non-null   object \n",
      " 15  Screen_resolution  1368 non-null   object \n",
      " 16  Processor          1342 non-null   object \n",
      " 17  Processor_name     1370 non-null   object \n",
      "dtypes: float64(1), int64(2), object(15)\n",
      "memory usage: 192.8+ KB\n"
     ]
    }
   ],
   "source": [
    "#Shows More Information About Colunms (Column Name, Data Type, Non-Null Count Values)\n",
    "df.info()"
   ]
  },
  {
   "cell_type": "code",
   "execution_count": 310,
   "id": "b5b03a27-3eed-4288-af1b-aa5bdcc6f9d4",
   "metadata": {},
   "outputs": [
    {
     "data": {
      "text/plain": [
       "Unnamed: 0             0\n",
       "Name                   0\n",
       "Rating                 0\n",
       "Spec_score             0\n",
       "No_of_sim              0\n",
       "Ram                    0\n",
       "Battery                0\n",
       "Display                0\n",
       "Camera                 0\n",
       "External_Memory        0\n",
       "Android_version      443\n",
       "Price                  0\n",
       "company                0\n",
       "Inbuilt_memory        19\n",
       "fast_charging         89\n",
       "Screen_resolution      2\n",
       "Processor             28\n",
       "Processor_name         0\n",
       "dtype: int64"
      ]
     },
     "execution_count": 310,
     "metadata": {},
     "output_type": "execute_result"
    }
   ],
   "source": [
    "#Print Sum of Null Values\n",
    "df.isnull().sum()"
   ]
  },
  {
   "cell_type": "code",
   "execution_count": 311,
   "id": "d4a1e682-7233-4111-8df5-94a983d44101",
   "metadata": {},
   "outputs": [],
   "source": [
    "#Fill allthe null values using mean or mode"
   ]
  },
  {
   "cell_type": "code",
   "execution_count": 312,
   "id": "d16f7306-09e1-46e7-a7cc-3bd2557cfbc2",
   "metadata": {},
   "outputs": [
    {
     "data": {
      "text/plain": [
       "'13'"
      ]
     },
     "execution_count": 312,
     "metadata": {},
     "output_type": "execute_result"
    }
   ],
   "source": [
    "#Filling null values in Android_version colunm using Mode \n",
    "A_V_Mode = df['Android_version'].mode()[0]\n",
    "A_V_Mode"
   ]
  },
  {
   "cell_type": "code",
   "execution_count": 313,
   "id": "d4a3ed08-51d1-49b0-9f86-57415019aeb1",
   "metadata": {},
   "outputs": [
    {
     "data": {
      "text/plain": [
       "0"
      ]
     },
     "execution_count": 313,
     "metadata": {},
     "output_type": "execute_result"
    }
   ],
   "source": [
    "df['Android_version'] = df['Android_version'].fillna(A_V_Mode)\n",
    "df['Android_version'].isnull().sum()"
   ]
  },
  {
   "cell_type": "code",
   "execution_count": 314,
   "id": "8e68cee8-7498-4bc9-86f8-51dd2966081e",
   "metadata": {},
   "outputs": [
    {
     "data": {
      "text/plain": [
       "' 128 GB inbuilt'"
      ]
     },
     "execution_count": 314,
     "metadata": {},
     "output_type": "execute_result"
    }
   ],
   "source": [
    "#Filling null values in Inbuilt_memory colunm using Mode \n",
    "I_M_Mode = df['Inbuilt_memory'].mode()[0]\n",
    "I_M_Mode"
   ]
  },
  {
   "cell_type": "code",
   "execution_count": 315,
   "id": "f4ce9f5f-7030-4ce4-9f66-51336e5abca4",
   "metadata": {},
   "outputs": [
    {
     "data": {
      "text/plain": [
       "0"
      ]
     },
     "execution_count": 315,
     "metadata": {},
     "output_type": "execute_result"
    }
   ],
   "source": [
    "df['Inbuilt_memory'] = df['Inbuilt_memory'].fillna(I_M_Mode)\n",
    "df['Inbuilt_memory'].isnull().sum()"
   ]
  },
  {
   "cell_type": "code",
   "execution_count": 316,
   "id": "272e38cc-47b7-46e3-9bf8-a01a13f8f9de",
   "metadata": {},
   "outputs": [
    {
     "data": {
      "text/plain": [
       "' 18W Fast Charging'"
      ]
     },
     "execution_count": 316,
     "metadata": {},
     "output_type": "execute_result"
    }
   ],
   "source": [
    "#Filling null values in fast_charging colunm using Mode \n",
    "F_C_Mode = df['fast_charging'].mode()[0]\n",
    "F_C_Mode"
   ]
  },
  {
   "cell_type": "code",
   "execution_count": 317,
   "id": "24058119-4931-4db2-883b-251ad2e0bca7",
   "metadata": {},
   "outputs": [
    {
     "data": {
      "text/plain": [
       "0"
      ]
     },
     "execution_count": 317,
     "metadata": {},
     "output_type": "execute_result"
    }
   ],
   "source": [
    "df['fast_charging'] = df['fast_charging'].fillna(F_C_Mode)\n",
    "df['fast_charging'].isnull().sum()"
   ]
  },
  {
   "cell_type": "code",
   "execution_count": 318,
   "id": "e3db6489-ef33-4210-87be-492de2a6347b",
   "metadata": {},
   "outputs": [
    {
     "data": {
      "text/plain": [
       "' 1080 x 2400 px'"
      ]
     },
     "execution_count": 318,
     "metadata": {},
     "output_type": "execute_result"
    }
   ],
   "source": [
    "#Filling null values in Screen_resolution colunm using Mode \n",
    "S_R_Mode = df['Screen_resolution'].mode()[0]\n",
    "S_R_Mode"
   ]
  },
  {
   "cell_type": "code",
   "execution_count": 319,
   "id": "c87983f0-95b7-46a8-9e5e-a140e0fd830a",
   "metadata": {},
   "outputs": [
    {
     "data": {
      "text/plain": [
       "0"
      ]
     },
     "execution_count": 319,
     "metadata": {},
     "output_type": "execute_result"
    }
   ],
   "source": [
    "df['Screen_resolution'] = df['Screen_resolution'].fillna(S_R_Mode)\n",
    "df['Screen_resolution'].isnull().sum()"
   ]
  },
  {
   "cell_type": "code",
   "execution_count": 320,
   "id": "c327521d-85e0-4ca6-9833-d11461bd240c",
   "metadata": {},
   "outputs": [
    {
     "data": {
      "text/plain": [
       "' Octa Core'"
      ]
     },
     "execution_count": 320,
     "metadata": {},
     "output_type": "execute_result"
    }
   ],
   "source": [
    "#Filling null values in Processor colunm using Mode \n",
    "P_Mode = df['Processor'].mode()[0]\n",
    "P_Mode"
   ]
  },
  {
   "cell_type": "code",
   "execution_count": 321,
   "id": "453b5720-7a7c-4aeb-9e34-e5edd93f1aaf",
   "metadata": {},
   "outputs": [
    {
     "data": {
      "text/plain": [
       "0"
      ]
     },
     "execution_count": 321,
     "metadata": {},
     "output_type": "execute_result"
    }
   ],
   "source": [
    "df['Processor'] = df['Processor'].fillna(P_Mode)\n",
    "df['Processor'].isnull().sum()"
   ]
  },
  {
   "cell_type": "code",
   "execution_count": 322,
   "id": "e07392d1-d5ba-4f98-b102-6ac502a377c3",
   "metadata": {},
   "outputs": [
    {
     "data": {
      "text/plain": [
       "Unnamed: 0           0\n",
       "Name                 0\n",
       "Rating               0\n",
       "Spec_score           0\n",
       "No_of_sim            0\n",
       "Ram                  0\n",
       "Battery              0\n",
       "Display              0\n",
       "Camera               0\n",
       "External_Memory      0\n",
       "Android_version      0\n",
       "Price                0\n",
       "company              0\n",
       "Inbuilt_memory       0\n",
       "fast_charging        0\n",
       "Screen_resolution    0\n",
       "Processor            0\n",
       "Processor_name       0\n",
       "dtype: int64"
      ]
     },
     "execution_count": 322,
     "metadata": {},
     "output_type": "execute_result"
    }
   ],
   "source": [
    "df.isnull().sum()"
   ]
  },
  {
   "cell_type": "code",
   "execution_count": 323,
   "id": "8efed40d",
   "metadata": {},
   "outputs": [
    {
     "name": "stdout",
     "output_type": "stream",
     "text": [
      "Unnamed: 0           0\n",
      "Name                 0\n",
      "Rating               0\n",
      "Spec_score           0\n",
      "No_of_sim            0\n",
      "Ram                  0\n",
      "Battery              0\n",
      "Display              0\n",
      "Camera               0\n",
      "External_Memory      0\n",
      "Android_version      0\n",
      "Price                0\n",
      "company              0\n",
      "Inbuilt_memory       0\n",
      "fast_charging        0\n",
      "Screen_resolution    0\n",
      "Processor            0\n",
      "Processor_name       0\n",
      "dtype: int64\n"
     ]
    }
   ],
   "source": [
    "has_nan = df.isna().sum()  \n",
    "print(has_nan)"
   ]
  },
  {
   "cell_type": "code",
   "execution_count": 324,
   "id": "51601699-a0f9-485a-b833-b4299d6be263",
   "metadata": {},
   "outputs": [],
   "source": [
    "#Removing unwanted parts from the datasets\n",
    "df['Ram']=pd.to_numeric(df['Ram'].replace({'GB':'','RAM':'',',':''},regex=True),errors='coerce') \n",
    "df['Battery']=pd.to_numeric(df['Battery'].replace({'mAh':'','Battery':'',',':''},regex=True),errors='coerce') \n",
    "df['Display']=pd.to_numeric(df['Display'].replace({'inches':'',',':''},regex=True),errors='coerce') \n",
    "df['Inbuilt_memory']=pd.to_numeric(df['Inbuilt_memory'].replace({'GB':'',',':'','inbuilt':''},regex=True),errors='coerce')\n",
    "df['fast_charging']=pd.to_numeric(df['fast_charging'].replace({'W':'','Charging':'','Fast':''},regex=True),errors='coerce')\n",
    "df['Price']=pd.to_numeric(df['Price'].replace({',':''},regex=True),errors='coerce')"
   ]
  },
  {
   "cell_type": "code",
   "execution_count": 325,
   "id": "d4c21125-e510-443a-8cdf-07c1ed09b8af",
   "metadata": {},
   "outputs": [
    {
     "data": {
      "text/plain": [
       "0                        Memory Card Supported, upto 1 TB\n",
       "1                      Memory Card Supported, upto 512 GB\n",
       "2                        Memory Card Supported, upto 1 TB\n",
       "3                        Memory Card Supported, upto 1 TB\n",
       "4                        Memory Card Supported, upto 1 TB\n",
       "                              ...                        \n",
       "1365                                 Memory Card (Hybrid)\n",
       "1366                                 Memory Card (Hybrid)\n",
       "1367                     Memory Card Supported, upto 1 TB\n",
       "1368                     Memory Card Supported, upto 1 TB\n",
       "1369    50 MP + 48 MP + 8 MP Triple Rear &amp; 32 MP F...\n",
       "Name: External_Memory, Length: 1370, dtype: object"
      ]
     },
     "execution_count": 325,
     "metadata": {},
     "output_type": "execute_result"
    }
   ],
   "source": [
    "df['External_Memory']"
   ]
  },
  {
   "cell_type": "code",
   "execution_count": 326,
   "id": "0c1afbcb-8821-4ae1-bf86-d428586a04d5",
   "metadata": {},
   "outputs": [],
   "source": [
    "#Remove External_Memory Column (That contaion fake values)\n",
    "column_to_remove = ['External_Memory']\n",
    "df.drop(labels=column_to_remove, axis=1, inplace=True)"
   ]
  },
  {
   "cell_type": "code",
   "execution_count": 327,
   "id": "511152aa-dbe0-47ca-ba96-15c031cf5073",
   "metadata": {},
   "outputs": [],
   "source": [
    "#Converting pricr column Indian Currency to SriLankan currency\n",
    "df['Price'] = df['Price'] * 3.5"
   ]
  },
  {
   "cell_type": "code",
   "execution_count": 328,
   "id": "9d9271c0-40b1-4956-860b-3b741f7e9771",
   "metadata": {},
   "outputs": [
    {
     "data": {
      "text/plain": [
       "array(['Samsung', 'Vivo', 'Realme', 'OPPO', 'Oppo', 'iQOO', 'IQOO',\n",
       "       'Poco', 'POCO', 'Honor', 'Nothing', 'Google', 'itel', 'Itel',\n",
       "       'Asus', 'LG', 'Lenovo', 'Gionee', 'Motorola', 'OnePlus', 'Xiaomi',\n",
       "       'Tecno', 'Huawei', 'Lava', 'Coolpad', 'TCL'], dtype=object)"
      ]
     },
     "execution_count": 328,
     "metadata": {},
     "output_type": "execute_result"
    }
   ],
   "source": [
    "#Identify Duplicate Unique Values in Company column\n",
    "df['company'].unique()"
   ]
  },
  {
   "cell_type": "code",
   "execution_count": 329,
   "id": "12d549de-c801-4e3f-b2e7-4724a44fcbac",
   "metadata": {},
   "outputs": [
    {
     "data": {
      "text/plain": [
       "array(['SAMSUNG', 'VIVO', 'REALME', 'OPPO', 'IQOO', 'POCO', 'HONOR',\n",
       "       'NOTHING', 'GOOGLE', 'ITEL', 'ASUS', 'LG', 'LENOVO', 'GIONEE',\n",
       "       'MOTOROLA', 'ONEPLUS', 'XIAOMI', 'TECNO', 'HUAWEI', 'LAVA',\n",
       "       'COOLPAD', 'TCL'], dtype=object)"
      ]
     },
     "execution_count": 329,
     "metadata": {},
     "output_type": "execute_result"
    }
   ],
   "source": [
    "#make datas to uppercase to remove duplicate unique value in Company column\n",
    "df['company'] = df['company'].str.upper()\n",
    "df['company'].unique()"
   ]
  },
  {
   "cell_type": "code",
   "execution_count": 330,
   "id": "40065afb-c967-43db-9ed1-2e8bd4062210",
   "metadata": {},
   "outputs": [
    {
     "data": {
      "image/png": "[encoded data removed]",
      "text/plain": [
       "<Figure size 1000x400 with 1 Axes>"
      ]
     },
     "metadata": {},
     "output_type": "display_data"
    }
   ],
   "source": [
    "# Get top 10 companies\n",
    "top_10_companies = df['company'].value_counts().head(10)\n",
    "x = top_10_companies.index\n",
    "y = top_10_companies.values\n",
    "\n",
    "# Generate a gradient color map\n",
    "colors = plt.cm.viridis(np.linspace(0, 1, len(x)))\n",
    "\n",
    "# Plotting\n",
    "plt.figure(figsize=(10, 4))\n",
    "plt.xlabel('Company Name')\n",
    "plt.ylabel('Count')\n",
    "plt.title('Top 10 Mobile Brands by Count')\n",
    "plt.bar(x, y, color=colors)\n",
    "plt.xticks(rotation=90)\n",
    "plt.show()"
   ]
  },
  {
   "cell_type": "code",
   "execution_count": 331,
   "id": "66ee715a-c2bf-40e9-b2a3-117847f3fb79",
   "metadata": {},
   "outputs": [
    {
     "data": {
      "text/html": [
       "<div>\n",
       "<style scoped>\n",
       "    .dataframe tbody tr th:only-of-type {\n",
       "        vertical-align: middle;\n",
       "    }\n",
       "\n",
       "    .dataframe tbody tr th {\n",
       "        vertical-align: top;\n",
       "    }\n",
       "\n",
       "    .dataframe thead th {\n",
       "        text-align: right;\n",
       "    }\n",
       "</style>\n",
       "<table border=\"1\" class=\"dataframe\">\n",
       "  <thead>\n",
       "    <tr style=\"text-align: right;\">\n",
       "      <th></th>\n",
       "      <th>Unnamed: 0</th>\n",
       "      <th>Name</th>\n",
       "      <th>Rating</th>\n",
       "      <th>Spec_score</th>\n",
       "      <th>No_of_sim</th>\n",
       "      <th>Ram</th>\n",
       "      <th>Battery</th>\n",
       "      <th>Display</th>\n",
       "      <th>Camera</th>\n",
       "      <th>Android_version</th>\n",
       "      <th>Price</th>\n",
       "      <th>company</th>\n",
       "      <th>Inbuilt_memory</th>\n",
       "      <th>fast_charging</th>\n",
       "      <th>Screen_resolution</th>\n",
       "      <th>Processor</th>\n",
       "      <th>Processor_name</th>\n",
       "    </tr>\n",
       "  </thead>\n",
       "  <tbody>\n",
       "    <tr>\n",
       "      <th>0</th>\n",
       "      <td>0</td>\n",
       "      <td>Samsung Galaxy F14 5G</td>\n",
       "      <td>4.65</td>\n",
       "      <td>68</td>\n",
       "      <td>Dual Sim, 3G, 4G, 5G, VoLTE,</td>\n",
       "      <td>4.0</td>\n",
       "      <td>6000.0</td>\n",
       "      <td>6.6</td>\n",
       "      <td>50 MP + 2 MP Dual Rear &amp;amp; 13 MP Front Camera</td>\n",
       "      <td>13</td>\n",
       "      <td>34996.5</td>\n",
       "      <td>SAMSUNG</td>\n",
       "      <td>128.0</td>\n",
       "      <td>25.0</td>\n",
       "      <td>2408 x 1080 px Display with Water Drop Notch</td>\n",
       "      <td>Octa Core Processor</td>\n",
       "      <td>Exynos 1330</td>\n",
       "    </tr>\n",
       "    <tr>\n",
       "      <th>1</th>\n",
       "      <td>1</td>\n",
       "      <td>Samsung Galaxy A11</td>\n",
       "      <td>4.20</td>\n",
       "      <td>63</td>\n",
       "      <td>Dual Sim, 3G, 4G, VoLTE,</td>\n",
       "      <td>2.0</td>\n",
       "      <td>4000.0</td>\n",
       "      <td>6.4</td>\n",
       "      <td>13 MP + 5 MP + 2 MP Triple Rear &amp;amp; 8 MP Fro...</td>\n",
       "      <td>10</td>\n",
       "      <td>34965.0</td>\n",
       "      <td>SAMSUNG</td>\n",
       "      <td>32.0</td>\n",
       "      <td>15.0</td>\n",
       "      <td>720 x 1560 px Display with Punch Hole</td>\n",
       "      <td>1.8 GHz Processor</td>\n",
       "      <td>Octa Core</td>\n",
       "    </tr>\n",
       "    <tr>\n",
       "      <th>2</th>\n",
       "      <td>2</td>\n",
       "      <td>Samsung Galaxy A13</td>\n",
       "      <td>4.30</td>\n",
       "      <td>75</td>\n",
       "      <td>Dual Sim, 3G, 4G, VoLTE,</td>\n",
       "      <td>4.0</td>\n",
       "      <td>5000.0</td>\n",
       "      <td>6.6</td>\n",
       "      <td>50 MP Quad Rear &amp;amp; 8 MP Front Camera</td>\n",
       "      <td>12</td>\n",
       "      <td>41996.5</td>\n",
       "      <td>SAMSUNG</td>\n",
       "      <td>64.0</td>\n",
       "      <td>25.0</td>\n",
       "      <td>1080 x 2408 px Display with Water Drop Notch</td>\n",
       "      <td>2 GHz Processor</td>\n",
       "      <td>Octa Core</td>\n",
       "    </tr>\n",
       "    <tr>\n",
       "      <th>3</th>\n",
       "      <td>3</td>\n",
       "      <td>Samsung Galaxy F23</td>\n",
       "      <td>4.10</td>\n",
       "      <td>73</td>\n",
       "      <td>Dual Sim, 3G, 4G, VoLTE,</td>\n",
       "      <td>4.0</td>\n",
       "      <td>6000.0</td>\n",
       "      <td>6.4</td>\n",
       "      <td>48 MP Quad Rear &amp;amp; 13 MP Front Camera</td>\n",
       "      <td>12</td>\n",
       "      <td>41996.5</td>\n",
       "      <td>SAMSUNG</td>\n",
       "      <td>64.0</td>\n",
       "      <td>18.0</td>\n",
       "      <td>720 x 1600 px</td>\n",
       "      <td>Octa Core</td>\n",
       "      <td>Helio G88</td>\n",
       "    </tr>\n",
       "    <tr>\n",
       "      <th>4</th>\n",
       "      <td>4</td>\n",
       "      <td>Samsung Galaxy A03s (4GB RAM + 64GB)</td>\n",
       "      <td>4.10</td>\n",
       "      <td>69</td>\n",
       "      <td>Dual Sim, 3G, 4G, VoLTE,</td>\n",
       "      <td>4.0</td>\n",
       "      <td>5000.0</td>\n",
       "      <td>6.5</td>\n",
       "      <td>13 MP + 2 MP + 2 MP Triple Rear &amp;amp; 5 MP Fro...</td>\n",
       "      <td>11</td>\n",
       "      <td>41996.5</td>\n",
       "      <td>SAMSUNG</td>\n",
       "      <td>64.0</td>\n",
       "      <td>15.0</td>\n",
       "      <td>720 x 1600 px Display with Water Drop Notch</td>\n",
       "      <td>Octa Core</td>\n",
       "      <td>Helio P35</td>\n",
       "    </tr>\n",
       "  </tbody>\n",
       "</table>\n",
       "</div>"
      ],
      "text/plain": [
       "   Unnamed: 0                                  Name  Rating  Spec_score  \\\n",
       "0           0                 Samsung Galaxy F14 5G    4.65          68   \n",
       "1           1                    Samsung Galaxy A11    4.20          63   \n",
       "2           2                    Samsung Galaxy A13    4.30          75   \n",
       "3           3                    Samsung Galaxy F23    4.10          73   \n",
       "4           4  Samsung Galaxy A03s (4GB RAM + 64GB)    4.10          69   \n",
       "\n",
       "                       No_of_sim  Ram  Battery  Display  \\\n",
       "0  Dual Sim, 3G, 4G, 5G, VoLTE,   4.0   6000.0      6.6   \n",
       "1      Dual Sim, 3G, 4G, VoLTE,   2.0   4000.0      6.4   \n",
       "2      Dual Sim, 3G, 4G, VoLTE,   4.0   5000.0      6.6   \n",
       "3      Dual Sim, 3G, 4G, VoLTE,   4.0   6000.0      6.4   \n",
       "4      Dual Sim, 3G, 4G, VoLTE,   4.0   5000.0      6.5   \n",
       "\n",
       "                                              Camera Android_version    Price  \\\n",
       "0    50 MP + 2 MP Dual Rear &amp; 13 MP Front Camera              13  34996.5   \n",
       "1  13 MP + 5 MP + 2 MP Triple Rear &amp; 8 MP Fro...              10  34965.0   \n",
       "2            50 MP Quad Rear &amp; 8 MP Front Camera              12  41996.5   \n",
       "3           48 MP Quad Rear &amp; 13 MP Front Camera              12  41996.5   \n",
       "4  13 MP + 2 MP + 2 MP Triple Rear &amp; 5 MP Fro...              11  41996.5   \n",
       "\n",
       "   company  Inbuilt_memory  fast_charging  \\\n",
       "0  SAMSUNG           128.0           25.0   \n",
       "1  SAMSUNG            32.0           15.0   \n",
       "2  SAMSUNG            64.0           25.0   \n",
       "3  SAMSUNG            64.0           18.0   \n",
       "4  SAMSUNG            64.0           15.0   \n",
       "\n",
       "                               Screen_resolution             Processor  \\\n",
       "0   2408 x 1080 px Display with Water Drop Notch   Octa Core Processor   \n",
       "1          720 x 1560 px Display with Punch Hole     1.8 GHz Processor   \n",
       "2   1080 x 2408 px Display with Water Drop Notch       2 GHz Processor   \n",
       "3                                  720 x 1600 px             Octa Core   \n",
       "4    720 x 1600 px Display with Water Drop Notch             Octa Core   \n",
       "\n",
       "  Processor_name  \n",
       "0    Exynos 1330  \n",
       "1      Octa Core  \n",
       "2      Octa Core  \n",
       "3      Helio G88  \n",
       "4      Helio P35  "
      ]
     },
     "execution_count": 331,
     "metadata": {},
     "output_type": "execute_result"
    }
   ],
   "source": [
    "df.head()"
   ]
  },
  {
   "cell_type": "code",
   "execution_count": 332,
   "id": "8206d482",
   "metadata": {},
   "outputs": [
    {
     "data": {
      "text/plain": [
       "Processor_name\n",
       "Snapdragon 8+ Gen1     58\n",
       "Snapdragon 8 Gen2      55\n",
       "Snapdragon 8 Gen3      44\n",
       "Snapdragon 695         36\n",
       "Snapdragon 680         34\n",
       "Dimensity 6100 Plus    33\n",
       "Dimensity 700 5G       31\n",
       "Dimensity 6020         29\n",
       "Octa Core Processor    26\n",
       "Dimensity 7050         25\n",
       "Name: count, dtype: int64"
      ]
     },
     "execution_count": 332,
     "metadata": {},
     "output_type": "execute_result"
    }
   ],
   "source": [
    "unique_value_counts = df['Processor_name'].value_counts().head(10)\n",
    "unique_value_counts"
   ]
  },
  {
   "cell_type": "code",
   "execution_count": 333,
   "id": "a6eeaf9c",
   "metadata": {},
   "outputs": [
    {
     "data": {
      "image/png": "[encoded data removed]",
      "text/plain": [
       "<Figure size 1000x400 with 1 Axes>"
      ]
     },
     "metadata": {},
     "output_type": "display_data"
    }
   ],
   "source": [
    "top_10_Processors = df['Processor_name'].value_counts().head(10)\n",
    "x = top_10_Processors.index\n",
    "y = top_10_Processors.values\n",
    "\n",
    "# Generate a gradient color map\n",
    "colors = plt.cm.viridis(np.linspace(0, 1, len(x)))\n",
    "\n",
    "# Plotting\n",
    "plt.figure(figsize=(10, 4))\n",
    "plt.xlabel('Processors Name')\n",
    "plt.ylabel('Count')\n",
    "plt.title('Top 10 Processors Names by Count')\n",
    "plt.bar(x, y, color=colors)\n",
    "plt.xticks(rotation=90)\n",
    "plt.show()"
   ]
  },
  {
   "cell_type": "code",
   "execution_count": 334,
   "id": "7de1693c",
   "metadata": {},
   "outputs": [
    {
     "data": {
      "text/plain": [
       "array(['13', '10', '12', '11', '15', '10.0', '9.0 (Pie)', '14',\n",
       "       '7.1.1 (Nougat)', '8.0 (Oreo)', '8.1 (Oreo)', '5.1 (Lollipop)',\n",
       "       '6.0 (Marshmallow)', '9 (Pie)', '3', '2', '4.0', '3.0 (Honeycomb)',\n",
       "       '2.0', '3.0', '3.1', '5.0', '4.1'], dtype=object)"
      ]
     },
     "execution_count": 334,
     "metadata": {},
     "output_type": "execute_result"
    }
   ],
   "source": [
    "df['Android_version'].unique()"
   ]
  },
  {
   "cell_type": "code",
   "execution_count": 335,
   "id": "01fd11e5",
   "metadata": {},
   "outputs": [
    {
     "data": {
      "text/plain": [
       "array([13. , 10. , 12. , 11. , 15. ,  9. , 14. ,  7.1,  8. ,  8.1,  5.1,\n",
       "        6. ,  3. ,  2. ,  4. ,  3.1,  5. ,  4.1])"
      ]
     },
     "execution_count": 335,
     "metadata": {},
     "output_type": "execute_result"
    }
   ],
   "source": [
    "# Function to remove the string part and keep only the numeric version\n",
    "def remove_string_part(version):\n",
    "    if pd.isnull(version):\n",
    "        return version  # Keep NaN values as they are\n",
    "    # Extract the first numeric part only, including decimal\n",
    "    match = re.match(r'^\\d+(\\.\\d+)?', version)\n",
    "    if match:\n",
    "        return float(match.group(0))  # Return the numeric part as a float\n",
    "    return version\n",
    "\n",
    "# Apply the function to clean the Android_version column\n",
    "df['Android_version_clean'] = df['Android_version'].apply(remove_string_part)\n",
    "\n",
    "df['Android_version_clean'].unique()"
   ]
  },
  {
   "cell_type": "markdown",
   "id": "cb8ac707",
   "metadata": {},
   "source": [
    "# Feature Engineering\n",
    "### Creating New Features in Existing Data"
   ]
  },
  {
   "cell_type": "code",
   "execution_count": 336,
   "id": "b5475136-d16b-46bf-b921-9efc67c4b8d7",
   "metadata": {},
   "outputs": [
    {
     "data": {
      "text/html": [
       "<div>\n",
       "<style scoped>\n",
       "    .dataframe tbody tr th:only-of-type {\n",
       "        vertical-align: middle;\n",
       "    }\n",
       "\n",
       "    .dataframe tbody tr th {\n",
       "        vertical-align: top;\n",
       "    }\n",
       "\n",
       "    .dataframe thead th {\n",
       "        text-align: right;\n",
       "    }\n",
       "</style>\n",
       "<table border=\"1\" class=\"dataframe\">\n",
       "  <thead>\n",
       "    <tr style=\"text-align: right;\">\n",
       "      <th></th>\n",
       "      <th>Unnamed: 0</th>\n",
       "      <th>Name</th>\n",
       "      <th>Rating</th>\n",
       "      <th>Spec_score</th>\n",
       "      <th>No_of_sim</th>\n",
       "      <th>Ram</th>\n",
       "      <th>Battery</th>\n",
       "      <th>Display</th>\n",
       "      <th>Camera</th>\n",
       "      <th>Android_version</th>\n",
       "      <th>Price</th>\n",
       "      <th>company</th>\n",
       "      <th>Inbuilt_memory</th>\n",
       "      <th>fast_charging</th>\n",
       "      <th>Screen_resolution</th>\n",
       "      <th>Processor</th>\n",
       "      <th>Processor_name</th>\n",
       "      <th>Android_version_clean</th>\n",
       "      <th>Total_Rear_Camera_MP</th>\n",
       "      <th>Front_Camera_MP</th>\n",
       "    </tr>\n",
       "  </thead>\n",
       "  <tbody>\n",
       "    <tr>\n",
       "      <th>0</th>\n",
       "      <td>0</td>\n",
       "      <td>Samsung Galaxy F14 5G</td>\n",
       "      <td>4.65</td>\n",
       "      <td>68</td>\n",
       "      <td>Dual Sim, 3G, 4G, 5G, VoLTE,</td>\n",
       "      <td>4.0</td>\n",
       "      <td>6000.0</td>\n",
       "      <td>6.6</td>\n",
       "      <td>50 MP + 2 MP Dual Rear &amp;amp; 13 MP Front Camera</td>\n",
       "      <td>13</td>\n",
       "      <td>34996.5</td>\n",
       "      <td>SAMSUNG</td>\n",
       "      <td>128.0</td>\n",
       "      <td>25.0</td>\n",
       "      <td>2408 x 1080 px Display with Water Drop Notch</td>\n",
       "      <td>Octa Core Processor</td>\n",
       "      <td>Exynos 1330</td>\n",
       "      <td>13.0</td>\n",
       "      <td>52</td>\n",
       "      <td>13.0</td>\n",
       "    </tr>\n",
       "    <tr>\n",
       "      <th>1</th>\n",
       "      <td>1</td>\n",
       "      <td>Samsung Galaxy A11</td>\n",
       "      <td>4.20</td>\n",
       "      <td>63</td>\n",
       "      <td>Dual Sim, 3G, 4G, VoLTE,</td>\n",
       "      <td>2.0</td>\n",
       "      <td>4000.0</td>\n",
       "      <td>6.4</td>\n",
       "      <td>13 MP + 5 MP + 2 MP Triple Rear &amp;amp; 8 MP Fro...</td>\n",
       "      <td>10</td>\n",
       "      <td>34965.0</td>\n",
       "      <td>SAMSUNG</td>\n",
       "      <td>32.0</td>\n",
       "      <td>15.0</td>\n",
       "      <td>720 x 1560 px Display with Punch Hole</td>\n",
       "      <td>1.8 GHz Processor</td>\n",
       "      <td>Octa Core</td>\n",
       "      <td>10.0</td>\n",
       "      <td>20</td>\n",
       "      <td>8.0</td>\n",
       "    </tr>\n",
       "    <tr>\n",
       "      <th>2</th>\n",
       "      <td>2</td>\n",
       "      <td>Samsung Galaxy A13</td>\n",
       "      <td>4.30</td>\n",
       "      <td>75</td>\n",
       "      <td>Dual Sim, 3G, 4G, VoLTE,</td>\n",
       "      <td>4.0</td>\n",
       "      <td>5000.0</td>\n",
       "      <td>6.6</td>\n",
       "      <td>50 MP Quad Rear &amp;amp; 8 MP Front Camera</td>\n",
       "      <td>12</td>\n",
       "      <td>41996.5</td>\n",
       "      <td>SAMSUNG</td>\n",
       "      <td>64.0</td>\n",
       "      <td>25.0</td>\n",
       "      <td>1080 x 2408 px Display with Water Drop Notch</td>\n",
       "      <td>2 GHz Processor</td>\n",
       "      <td>Octa Core</td>\n",
       "      <td>12.0</td>\n",
       "      <td>50</td>\n",
       "      <td>8.0</td>\n",
       "    </tr>\n",
       "    <tr>\n",
       "      <th>3</th>\n",
       "      <td>3</td>\n",
       "      <td>Samsung Galaxy F23</td>\n",
       "      <td>4.10</td>\n",
       "      <td>73</td>\n",
       "      <td>Dual Sim, 3G, 4G, VoLTE,</td>\n",
       "      <td>4.0</td>\n",
       "      <td>6000.0</td>\n",
       "      <td>6.4</td>\n",
       "      <td>48 MP Quad Rear &amp;amp; 13 MP Front Camera</td>\n",
       "      <td>12</td>\n",
       "      <td>41996.5</td>\n",
       "      <td>SAMSUNG</td>\n",
       "      <td>64.0</td>\n",
       "      <td>18.0</td>\n",
       "      <td>720 x 1600 px</td>\n",
       "      <td>Octa Core</td>\n",
       "      <td>Helio G88</td>\n",
       "      <td>12.0</td>\n",
       "      <td>48</td>\n",
       "      <td>13.0</td>\n",
       "    </tr>\n",
       "    <tr>\n",
       "      <th>4</th>\n",
       "      <td>4</td>\n",
       "      <td>Samsung Galaxy A03s (4GB RAM + 64GB)</td>\n",
       "      <td>4.10</td>\n",
       "      <td>69</td>\n",
       "      <td>Dual Sim, 3G, 4G, VoLTE,</td>\n",
       "      <td>4.0</td>\n",
       "      <td>5000.0</td>\n",
       "      <td>6.5</td>\n",
       "      <td>13 MP + 2 MP + 2 MP Triple Rear &amp;amp; 5 MP Fro...</td>\n",
       "      <td>11</td>\n",
       "      <td>41996.5</td>\n",
       "      <td>SAMSUNG</td>\n",
       "      <td>64.0</td>\n",
       "      <td>15.0</td>\n",
       "      <td>720 x 1600 px Display with Water Drop Notch</td>\n",
       "      <td>Octa Core</td>\n",
       "      <td>Helio P35</td>\n",
       "      <td>11.0</td>\n",
       "      <td>17</td>\n",
       "      <td>5.0</td>\n",
       "    </tr>\n",
       "  </tbody>\n",
       "</table>\n",
       "</div>"
      ],
      "text/plain": [
       "   Unnamed: 0                                  Name  Rating  Spec_score  \\\n",
       "0           0                 Samsung Galaxy F14 5G    4.65          68   \n",
       "1           1                    Samsung Galaxy A11    4.20          63   \n",
       "2           2                    Samsung Galaxy A13    4.30          75   \n",
       "3           3                    Samsung Galaxy F23    4.10          73   \n",
       "4           4  Samsung Galaxy A03s (4GB RAM + 64GB)    4.10          69   \n",
       "\n",
       "                       No_of_sim  Ram  Battery  Display  \\\n",
       "0  Dual Sim, 3G, 4G, 5G, VoLTE,   4.0   6000.0      6.6   \n",
       "1      Dual Sim, 3G, 4G, VoLTE,   2.0   4000.0      6.4   \n",
       "2      Dual Sim, 3G, 4G, VoLTE,   4.0   5000.0      6.6   \n",
       "3      Dual Sim, 3G, 4G, VoLTE,   4.0   6000.0      6.4   \n",
       "4      Dual Sim, 3G, 4G, VoLTE,   4.0   5000.0      6.5   \n",
       "\n",
       "                                              Camera Android_version    Price  \\\n",
       "0    50 MP + 2 MP Dual Rear &amp; 13 MP Front Camera              13  34996.5   \n",
       "1  13 MP + 5 MP + 2 MP Triple Rear &amp; 8 MP Fro...              10  34965.0   \n",
       "2            50 MP Quad Rear &amp; 8 MP Front Camera              12  41996.5   \n",
       "3           48 MP Quad Rear &amp; 13 MP Front Camera              12  41996.5   \n",
       "4  13 MP + 2 MP + 2 MP Triple Rear &amp; 5 MP Fro...              11  41996.5   \n",
       "\n",
       "   company  Inbuilt_memory  fast_charging  \\\n",
       "0  SAMSUNG           128.0           25.0   \n",
       "1  SAMSUNG            32.0           15.0   \n",
       "2  SAMSUNG            64.0           25.0   \n",
       "3  SAMSUNG            64.0           18.0   \n",
       "4  SAMSUNG            64.0           15.0   \n",
       "\n",
       "                               Screen_resolution             Processor  \\\n",
       "0   2408 x 1080 px Display with Water Drop Notch   Octa Core Processor   \n",
       "1          720 x 1560 px Display with Punch Hole     1.8 GHz Processor   \n",
       "2   1080 x 2408 px Display with Water Drop Notch       2 GHz Processor   \n",
       "3                                  720 x 1600 px             Octa Core   \n",
       "4    720 x 1600 px Display with Water Drop Notch             Octa Core   \n",
       "\n",
       "  Processor_name  Android_version_clean  Total_Rear_Camera_MP  Front_Camera_MP  \n",
       "0    Exynos 1330                   13.0                    52             13.0  \n",
       "1      Octa Core                   10.0                    20              8.0  \n",
       "2      Octa Core                   12.0                    50              8.0  \n",
       "3      Helio G88                   12.0                    48             13.0  \n",
       "4      Helio P35                   11.0                    17              5.0  "
      ]
     },
     "execution_count": 336,
     "metadata": {},
     "output_type": "execute_result"
    }
   ],
   "source": [
    "def extract_camera_megapixels(camera_info):\n",
    "    # Extracting rear camera megapixels\n",
    "    rear_camera_matches = re.findall(r'(\\d+) MP', camera_info.split('&')[0])\n",
    "    rear_camera_megapixels = [int(mp) for mp in rear_camera_matches]\n",
    "    \n",
    "    # Summing up the rear camera megapixels\n",
    "    total_rear_camera_mp = sum(rear_camera_megapixels)\n",
    "    \n",
    "    # Extracting front camera megapixels\n",
    "    front_camera_match = re.search(r'(\\d+) MP Front', camera_info)\n",
    "    front_camera_mp = int(front_camera_match.group(1)) if front_camera_match else None\n",
    "    \n",
    "    return total_rear_camera_mp, front_camera_mp\n",
    "\n",
    "# Apply the function to the 'Camera' column\n",
    "df['Total_Rear_Camera_MP'], df['Front_Camera_MP'] = zip(*df['Camera'].apply(extract_camera_megapixels))\n",
    "\n",
    "# Display the DataFrame\n",
    "df.head()"
   ]
  },
  {
   "cell_type": "code",
   "execution_count": 337,
   "id": "aeb2b6e2-cbee-4c67-bb4d-9006cfe66375",
   "metadata": {},
   "outputs": [
    {
     "data": {
      "text/html": [
       "<div>\n",
       "<style scoped>\n",
       "    .dataframe tbody tr th:only-of-type {\n",
       "        vertical-align: middle;\n",
       "    }\n",
       "\n",
       "    .dataframe tbody tr th {\n",
       "        vertical-align: top;\n",
       "    }\n",
       "\n",
       "    .dataframe thead th {\n",
       "        text-align: right;\n",
       "    }\n",
       "</style>\n",
       "<table border=\"1\" class=\"dataframe\">\n",
       "  <thead>\n",
       "    <tr style=\"text-align: right;\">\n",
       "      <th></th>\n",
       "      <th>Name</th>\n",
       "      <th>Price</th>\n",
       "      <th>Price Range</th>\n",
       "    </tr>\n",
       "  </thead>\n",
       "  <tbody>\n",
       "    <tr>\n",
       "      <th>0</th>\n",
       "      <td>Samsung Galaxy F14 5G</td>\n",
       "      <td>34996.5</td>\n",
       "      <td>Mid-range</td>\n",
       "    </tr>\n",
       "    <tr>\n",
       "      <th>1</th>\n",
       "      <td>Samsung Galaxy A11</td>\n",
       "      <td>34965.0</td>\n",
       "      <td>Mid-range</td>\n",
       "    </tr>\n",
       "    <tr>\n",
       "      <th>2</th>\n",
       "      <td>Samsung Galaxy A13</td>\n",
       "      <td>41996.5</td>\n",
       "      <td>Mid-range</td>\n",
       "    </tr>\n",
       "    <tr>\n",
       "      <th>3</th>\n",
       "      <td>Samsung Galaxy F23</td>\n",
       "      <td>41996.5</td>\n",
       "      <td>Mid-range</td>\n",
       "    </tr>\n",
       "    <tr>\n",
       "      <th>4</th>\n",
       "      <td>Samsung Galaxy A03s (4GB RAM + 64GB)</td>\n",
       "      <td>41996.5</td>\n",
       "      <td>Mid-range</td>\n",
       "    </tr>\n",
       "    <tr>\n",
       "      <th>...</th>\n",
       "      <td>...</td>\n",
       "      <td>...</td>\n",
       "      <td>...</td>\n",
       "    </tr>\n",
       "    <tr>\n",
       "      <th>1365</th>\n",
       "      <td>TCL 40R</td>\n",
       "      <td>66496.5</td>\n",
       "      <td>Mid-range</td>\n",
       "    </tr>\n",
       "    <tr>\n",
       "      <th>1366</th>\n",
       "      <td>TCL 50 XL NxtPaper 5G</td>\n",
       "      <td>87465.0</td>\n",
       "      <td>Premium</td>\n",
       "    </tr>\n",
       "    <tr>\n",
       "      <th>1367</th>\n",
       "      <td>TCL 50 XE NxtPaper 5G</td>\n",
       "      <td>83965.0</td>\n",
       "      <td>Premium</td>\n",
       "    </tr>\n",
       "    <tr>\n",
       "      <th>1368</th>\n",
       "      <td>TCL 40 NxtPaper 5G</td>\n",
       "      <td>78746.5</td>\n",
       "      <td>Premium</td>\n",
       "    </tr>\n",
       "    <tr>\n",
       "      <th>1369</th>\n",
       "      <td>TCL Trifold</td>\n",
       "      <td>419965.0</td>\n",
       "      <td>Premium</td>\n",
       "    </tr>\n",
       "  </tbody>\n",
       "</table>\n",
       "<p>1370 rows × 3 columns</p>\n",
       "</div>"
      ],
      "text/plain": [
       "                                      Name     Price Price Range\n",
       "0                    Samsung Galaxy F14 5G   34996.5   Mid-range\n",
       "1                       Samsung Galaxy A11   34965.0   Mid-range\n",
       "2                       Samsung Galaxy A13   41996.5   Mid-range\n",
       "3                       Samsung Galaxy F23   41996.5   Mid-range\n",
       "4     Samsung Galaxy A03s (4GB RAM + 64GB)   41996.5   Mid-range\n",
       "...                                    ...       ...         ...\n",
       "1365                               TCL 40R   66496.5   Mid-range\n",
       "1366                 TCL 50 XL NxtPaper 5G   87465.0     Premium\n",
       "1367                 TCL 50 XE NxtPaper 5G   83965.0     Premium\n",
       "1368                    TCL 40 NxtPaper 5G   78746.5     Premium\n",
       "1369                           TCL Trifold  419965.0     Premium\n",
       "\n",
       "[1370 rows x 3 columns]"
      ]
     },
     "execution_count": 337,
     "metadata": {},
     "output_type": "execute_result"
    }
   ],
   "source": [
    "# Define price ranges\n",
    "def price_category(price):\n",
    "    if price < 25000:\n",
    "        return 'Budget'\n",
    "    elif 25000 <= price < 75000:\n",
    "        return 'Mid-range'\n",
    "    else:\n",
    "        return 'Premium'\n",
    "\n",
    "# Apply the function to create a new column\n",
    "df['Price Range'] = df['Price'].apply(price_category)\n",
    "\n",
    "df[['Name', 'Price', 'Price Range']]"
   ]
  },
  {
   "cell_type": "code",
   "execution_count": 338,
   "id": "ff760ef6",
   "metadata": {},
   "outputs": [
    {
     "data": {
      "image/png": "[encoded data removed]",
      "text/plain": [
       "<Figure size 1000x700 with 1 Axes>"
      ]
     },
     "metadata": {},
     "output_type": "display_data"
    }
   ],
   "source": [
    "# Create a crosstab of company vs price range\n",
    "price_company_distribution = pd.crosstab(df['company'], df['Price Range'])\n",
    "\n",
    "# Plotting\n",
    "price_company_distribution.plot(kind='bar', stacked=False, figsize=(10, 7))\n",
    "plt.title('Number of Models per Company in Each Price Range')\n",
    "plt.xlabel('Company')\n",
    "plt.ylabel('Number of Models')\n",
    "plt.xticks(rotation=90)  \n",
    "plt.legend(title='Price Range')\n",
    "plt.show()"
   ]
  },
  {
   "cell_type": "code",
   "execution_count": 339,
   "id": "e64bcd5a",
   "metadata": {},
   "outputs": [
    {
     "data": {
      "text/html": [
       "<div>\n",
       "<style scoped>\n",
       "    .dataframe tbody tr th:only-of-type {\n",
       "        vertical-align: middle;\n",
       "    }\n",
       "\n",
       "    .dataframe tbody tr th {\n",
       "        vertical-align: top;\n",
       "    }\n",
       "\n",
       "    .dataframe thead th {\n",
       "        text-align: right;\n",
       "    }\n",
       "</style>\n",
       "<table border=\"1\" class=\"dataframe\">\n",
       "  <thead>\n",
       "    <tr style=\"text-align: right;\">\n",
       "      <th></th>\n",
       "      <th>Name</th>\n",
       "      <th>Rating</th>\n",
       "      <th>Rating Category</th>\n",
       "    </tr>\n",
       "  </thead>\n",
       "  <tbody>\n",
       "    <tr>\n",
       "      <th>0</th>\n",
       "      <td>Samsung Galaxy F14 5G</td>\n",
       "      <td>4.65</td>\n",
       "      <td>High</td>\n",
       "    </tr>\n",
       "    <tr>\n",
       "      <th>1</th>\n",
       "      <td>Samsung Galaxy A11</td>\n",
       "      <td>4.20</td>\n",
       "      <td>Medium</td>\n",
       "    </tr>\n",
       "    <tr>\n",
       "      <th>2</th>\n",
       "      <td>Samsung Galaxy A13</td>\n",
       "      <td>4.30</td>\n",
       "      <td>Medium</td>\n",
       "    </tr>\n",
       "    <tr>\n",
       "      <th>3</th>\n",
       "      <td>Samsung Galaxy F23</td>\n",
       "      <td>4.10</td>\n",
       "      <td>Medium</td>\n",
       "    </tr>\n",
       "    <tr>\n",
       "      <th>4</th>\n",
       "      <td>Samsung Galaxy A03s (4GB RAM + 64GB)</td>\n",
       "      <td>4.10</td>\n",
       "      <td>Medium</td>\n",
       "    </tr>\n",
       "    <tr>\n",
       "      <th>...</th>\n",
       "      <td>...</td>\n",
       "      <td>...</td>\n",
       "      <td>...</td>\n",
       "    </tr>\n",
       "    <tr>\n",
       "      <th>1365</th>\n",
       "      <td>TCL 40R</td>\n",
       "      <td>4.05</td>\n",
       "      <td>Medium</td>\n",
       "    </tr>\n",
       "    <tr>\n",
       "      <th>1366</th>\n",
       "      <td>TCL 50 XL NxtPaper 5G</td>\n",
       "      <td>4.10</td>\n",
       "      <td>Medium</td>\n",
       "    </tr>\n",
       "    <tr>\n",
       "      <th>1367</th>\n",
       "      <td>TCL 50 XE NxtPaper 5G</td>\n",
       "      <td>4.00</td>\n",
       "      <td>Medium</td>\n",
       "    </tr>\n",
       "    <tr>\n",
       "      <th>1368</th>\n",
       "      <td>TCL 40 NxtPaper 5G</td>\n",
       "      <td>4.50</td>\n",
       "      <td>High</td>\n",
       "    </tr>\n",
       "    <tr>\n",
       "      <th>1369</th>\n",
       "      <td>TCL Trifold</td>\n",
       "      <td>4.65</td>\n",
       "      <td>High</td>\n",
       "    </tr>\n",
       "  </tbody>\n",
       "</table>\n",
       "<p>1370 rows × 3 columns</p>\n",
       "</div>"
      ],
      "text/plain": [
       "                                      Name  Rating Rating Category\n",
       "0                    Samsung Galaxy F14 5G    4.65            High\n",
       "1                       Samsung Galaxy A11    4.20          Medium\n",
       "2                       Samsung Galaxy A13    4.30          Medium\n",
       "3                       Samsung Galaxy F23    4.10          Medium\n",
       "4     Samsung Galaxy A03s (4GB RAM + 64GB)    4.10          Medium\n",
       "...                                    ...     ...             ...\n",
       "1365                               TCL 40R    4.05          Medium\n",
       "1366                 TCL 50 XL NxtPaper 5G    4.10          Medium\n",
       "1367                 TCL 50 XE NxtPaper 5G    4.00          Medium\n",
       "1368                    TCL 40 NxtPaper 5G    4.50            High\n",
       "1369                           TCL Trifold    4.65            High\n",
       "\n",
       "[1370 rows x 3 columns]"
      ]
     },
     "execution_count": 339,
     "metadata": {},
     "output_type": "execute_result"
    }
   ],
   "source": [
    "# Define the rating categories\n",
    "def rating_category(rating):\n",
    "    if rating < 2:\n",
    "        return 'Low'\n",
    "    elif 2 <= rating < 4.5:\n",
    "        return 'Medium'\n",
    "    else:\n",
    "        return 'High'\n",
    "\n",
    "# Apply the function to create a new column\n",
    "df['Rating Category'] = df['Rating'].apply(rating_category)\n",
    "df[['Name', 'Rating', 'Rating Category']]"
   ]
  },
  {
   "cell_type": "markdown",
   "id": "2e5d1ce5",
   "metadata": {},
   "source": [
    "#### Donut Chart "
   ]
  },
  {
   "cell_type": "code",
   "execution_count": 340,
   "id": "568cca51",
   "metadata": {},
   "outputs": [
    {
     "data": {
      "image/png": "[encoded data removed]",
      "text/plain": [
       "<Figure size 640x480 with 1 Axes>"
      ]
     },
     "metadata": {},
     "output_type": "display_data"
    }
   ],
   "source": [
    "# Count the number of occurrences of each rating category\n",
    "rating_counts = df['Rating Category'].value_counts()\n",
    "\n",
    "# Plotting\n",
    "fig, ax = plt.subplots()\n",
    "ax.pie(rating_counts, labels=rating_counts.index, autopct='%1.1f%%', startangle=90, colors=['#FF9999', '#66b3ff', '#99ff99'])\n",
    "# Draw a circle at the center of pie to make it look like a donut\n",
    "centre_circle = plt.Circle((0,0),0.70,fc='white')\n",
    "fig = plt.gcf()\n",
    "fig.gca().add_artist(centre_circle)\n",
    "\n",
    "plt.title('Distribution of Rating Categories')\n",
    "plt.show()"
   ]
  },
  {
   "cell_type": "markdown",
   "id": "684377ab",
   "metadata": {},
   "source": [
    "#### Removing NaN values in New features"
   ]
  },
  {
   "cell_type": "code",
   "execution_count": 341,
   "id": "bf04bbe2",
   "metadata": {},
   "outputs": [
    {
     "name": "stdout",
     "output_type": "stream",
     "text": [
      "Unnamed: 0                 0\n",
      "Name                       0\n",
      "Rating                     0\n",
      "Spec_score                 0\n",
      "No_of_sim                  0\n",
      "Ram                       20\n",
      "Battery                    2\n",
      "Display                    2\n",
      "Camera                     0\n",
      "Android_version            0\n",
      "Price                      0\n",
      "company                    0\n",
      "Inbuilt_memory             6\n",
      "fast_charging             40\n",
      "Screen_resolution          0\n",
      "Processor                  0\n",
      "Processor_name             0\n",
      "Android_version_clean      0\n",
      "Total_Rear_Camera_MP       0\n",
      "Front_Camera_MP          124\n",
      "Price Range                0\n",
      "Rating Category            0\n",
      "dtype: int64\n"
     ]
    }
   ],
   "source": [
    "has_nan = df.isna().sum() \n",
    "print(has_nan)"
   ]
  },
  {
   "cell_type": "code",
   "execution_count": 342,
   "id": "e53293e3",
   "metadata": {},
   "outputs": [],
   "source": [
    "df['Ram'].fillna(df['Ram'].mode()[0], inplace=True)\n",
    "df['Battery'].fillna(df['Battery'].mode()[0], inplace=True)\n",
    "df['Display'].fillna(df['Display'].mode()[0], inplace=True)\n",
    "df['Inbuilt_memory'].fillna(df['Inbuilt_memory'].mode()[0], inplace=True)\n",
    "df['fast_charging'].fillna(df['fast_charging'].mode()[0], inplace=True)\n",
    "df['Front_Camera_MP'].fillna(df['Front_Camera_MP'].mode()[0], inplace=True)"
   ]
  },
  {
   "cell_type": "code",
   "execution_count": 343,
   "id": "0144a4db",
   "metadata": {},
   "outputs": [
    {
     "name": "stdout",
     "output_type": "stream",
     "text": [
      "Unnamed: 0               0\n",
      "Name                     0\n",
      "Rating                   0\n",
      "Spec_score               0\n",
      "No_of_sim                0\n",
      "Ram                      0\n",
      "Battery                  0\n",
      "Display                  0\n",
      "Camera                   0\n",
      "Android_version          0\n",
      "Price                    0\n",
      "company                  0\n",
      "Inbuilt_memory           0\n",
      "fast_charging            0\n",
      "Screen_resolution        0\n",
      "Processor                0\n",
      "Processor_name           0\n",
      "Android_version_clean    0\n",
      "Total_Rear_Camera_MP     0\n",
      "Front_Camera_MP          0\n",
      "Price Range              0\n",
      "Rating Category          0\n",
      "dtype: int64\n"
     ]
    }
   ],
   "source": [
    "has_nan = df.isna().sum() \n",
    "print(has_nan)"
   ]
  },
  {
   "cell_type": "code",
   "execution_count": 344,
   "id": "f4f3e8e5",
   "metadata": {},
   "outputs": [
    {
     "data": {
      "text/html": [
       "<div>\n",
       "<style scoped>\n",
       "    .dataframe tbody tr th:only-of-type {\n",
       "        vertical-align: middle;\n",
       "    }\n",
       "\n",
       "    .dataframe tbody tr th {\n",
       "        vertical-align: top;\n",
       "    }\n",
       "\n",
       "    .dataframe thead th {\n",
       "        text-align: right;\n",
       "    }\n",
       "</style>\n",
       "<table border=\"1\" class=\"dataframe\">\n",
       "  <thead>\n",
       "    <tr style=\"text-align: right;\">\n",
       "      <th></th>\n",
       "      <th>Unnamed: 0</th>\n",
       "      <th>Name</th>\n",
       "      <th>Rating</th>\n",
       "      <th>Spec_score</th>\n",
       "      <th>No_of_sim</th>\n",
       "      <th>Ram</th>\n",
       "      <th>Battery</th>\n",
       "      <th>Display</th>\n",
       "      <th>Camera</th>\n",
       "      <th>Android_version</th>\n",
       "      <th>...</th>\n",
       "      <th>Inbuilt_memory</th>\n",
       "      <th>fast_charging</th>\n",
       "      <th>Screen_resolution</th>\n",
       "      <th>Processor</th>\n",
       "      <th>Processor_name</th>\n",
       "      <th>Android_version_clean</th>\n",
       "      <th>Total_Rear_Camera_MP</th>\n",
       "      <th>Front_Camera_MP</th>\n",
       "      <th>Price Range</th>\n",
       "      <th>Rating Category</th>\n",
       "    </tr>\n",
       "  </thead>\n",
       "  <tbody>\n",
       "    <tr>\n",
       "      <th>0</th>\n",
       "      <td>0</td>\n",
       "      <td>Samsung Galaxy F14 5G</td>\n",
       "      <td>4.65</td>\n",
       "      <td>68</td>\n",
       "      <td>Dual Sim, 3G, 4G, 5G, VoLTE,</td>\n",
       "      <td>4.0</td>\n",
       "      <td>6000.0</td>\n",
       "      <td>6.6</td>\n",
       "      <td>50 MP + 2 MP Dual Rear &amp;amp; 13 MP Front Camera</td>\n",
       "      <td>13</td>\n",
       "      <td>...</td>\n",
       "      <td>128.0</td>\n",
       "      <td>25.0</td>\n",
       "      <td>2408 x 1080 px Display with Water Drop Notch</td>\n",
       "      <td>Octa Core Processor</td>\n",
       "      <td>Exynos 1330</td>\n",
       "      <td>13.0</td>\n",
       "      <td>52</td>\n",
       "      <td>13.0</td>\n",
       "      <td>Mid-range</td>\n",
       "      <td>High</td>\n",
       "    </tr>\n",
       "    <tr>\n",
       "      <th>1</th>\n",
       "      <td>1</td>\n",
       "      <td>Samsung Galaxy A11</td>\n",
       "      <td>4.20</td>\n",
       "      <td>63</td>\n",
       "      <td>Dual Sim, 3G, 4G, VoLTE,</td>\n",
       "      <td>2.0</td>\n",
       "      <td>4000.0</td>\n",
       "      <td>6.4</td>\n",
       "      <td>13 MP + 5 MP + 2 MP Triple Rear &amp;amp; 8 MP Fro...</td>\n",
       "      <td>10</td>\n",
       "      <td>...</td>\n",
       "      <td>32.0</td>\n",
       "      <td>15.0</td>\n",
       "      <td>720 x 1560 px Display with Punch Hole</td>\n",
       "      <td>1.8 GHz Processor</td>\n",
       "      <td>Octa Core</td>\n",
       "      <td>10.0</td>\n",
       "      <td>20</td>\n",
       "      <td>8.0</td>\n",
       "      <td>Mid-range</td>\n",
       "      <td>Medium</td>\n",
       "    </tr>\n",
       "    <tr>\n",
       "      <th>2</th>\n",
       "      <td>2</td>\n",
       "      <td>Samsung Galaxy A13</td>\n",
       "      <td>4.30</td>\n",
       "      <td>75</td>\n",
       "      <td>Dual Sim, 3G, 4G, VoLTE,</td>\n",
       "      <td>4.0</td>\n",
       "      <td>5000.0</td>\n",
       "      <td>6.6</td>\n",
       "      <td>50 MP Quad Rear &amp;amp; 8 MP Front Camera</td>\n",
       "      <td>12</td>\n",
       "      <td>...</td>\n",
       "      <td>64.0</td>\n",
       "      <td>25.0</td>\n",
       "      <td>1080 x 2408 px Display with Water Drop Notch</td>\n",
       "      <td>2 GHz Processor</td>\n",
       "      <td>Octa Core</td>\n",
       "      <td>12.0</td>\n",
       "      <td>50</td>\n",
       "      <td>8.0</td>\n",
       "      <td>Mid-range</td>\n",
       "      <td>Medium</td>\n",
       "    </tr>\n",
       "    <tr>\n",
       "      <th>3</th>\n",
       "      <td>3</td>\n",
       "      <td>Samsung Galaxy F23</td>\n",
       "      <td>4.10</td>\n",
       "      <td>73</td>\n",
       "      <td>Dual Sim, 3G, 4G, VoLTE,</td>\n",
       "      <td>4.0</td>\n",
       "      <td>6000.0</td>\n",
       "      <td>6.4</td>\n",
       "      <td>48 MP Quad Rear &amp;amp; 13 MP Front Camera</td>\n",
       "      <td>12</td>\n",
       "      <td>...</td>\n",
       "      <td>64.0</td>\n",
       "      <td>18.0</td>\n",
       "      <td>720 x 1600 px</td>\n",
       "      <td>Octa Core</td>\n",
       "      <td>Helio G88</td>\n",
       "      <td>12.0</td>\n",
       "      <td>48</td>\n",
       "      <td>13.0</td>\n",
       "      <td>Mid-range</td>\n",
       "      <td>Medium</td>\n",
       "    </tr>\n",
       "    <tr>\n",
       "      <th>4</th>\n",
       "      <td>4</td>\n",
       "      <td>Samsung Galaxy A03s (4GB RAM + 64GB)</td>\n",
       "      <td>4.10</td>\n",
       "      <td>69</td>\n",
       "      <td>Dual Sim, 3G, 4G, VoLTE,</td>\n",
       "      <td>4.0</td>\n",
       "      <td>5000.0</td>\n",
       "      <td>6.5</td>\n",
       "      <td>13 MP + 2 MP + 2 MP Triple Rear &amp;amp; 5 MP Fro...</td>\n",
       "      <td>11</td>\n",
       "      <td>...</td>\n",
       "      <td>64.0</td>\n",
       "      <td>15.0</td>\n",
       "      <td>720 x 1600 px Display with Water Drop Notch</td>\n",
       "      <td>Octa Core</td>\n",
       "      <td>Helio P35</td>\n",
       "      <td>11.0</td>\n",
       "      <td>17</td>\n",
       "      <td>5.0</td>\n",
       "      <td>Mid-range</td>\n",
       "      <td>Medium</td>\n",
       "    </tr>\n",
       "  </tbody>\n",
       "</table>\n",
       "<p>5 rows × 22 columns</p>\n",
       "</div>"
      ],
      "text/plain": [
       "   Unnamed: 0                                  Name  Rating  Spec_score  \\\n",
       "0           0                 Samsung Galaxy F14 5G    4.65          68   \n",
       "1           1                    Samsung Galaxy A11    4.20          63   \n",
       "2           2                    Samsung Galaxy A13    4.30          75   \n",
       "3           3                    Samsung Galaxy F23    4.10          73   \n",
       "4           4  Samsung Galaxy A03s (4GB RAM + 64GB)    4.10          69   \n",
       "\n",
       "                       No_of_sim  Ram  Battery  Display  \\\n",
       "0  Dual Sim, 3G, 4G, 5G, VoLTE,   4.0   6000.0      6.6   \n",
       "1      Dual Sim, 3G, 4G, VoLTE,   2.0   4000.0      6.4   \n",
       "2      Dual Sim, 3G, 4G, VoLTE,   4.0   5000.0      6.6   \n",
       "3      Dual Sim, 3G, 4G, VoLTE,   4.0   6000.0      6.4   \n",
       "4      Dual Sim, 3G, 4G, VoLTE,   4.0   5000.0      6.5   \n",
       "\n",
       "                                              Camera Android_version  ...  \\\n",
       "0    50 MP + 2 MP Dual Rear &amp; 13 MP Front Camera              13  ...   \n",
       "1  13 MP + 5 MP + 2 MP Triple Rear &amp; 8 MP Fro...              10  ...   \n",
       "2            50 MP Quad Rear &amp; 8 MP Front Camera              12  ...   \n",
       "3           48 MP Quad Rear &amp; 13 MP Front Camera              12  ...   \n",
       "4  13 MP + 2 MP + 2 MP Triple Rear &amp; 5 MP Fro...              11  ...   \n",
       "\n",
       "   Inbuilt_memory fast_charging  \\\n",
       "0           128.0          25.0   \n",
       "1            32.0          15.0   \n",
       "2            64.0          25.0   \n",
       "3            64.0          18.0   \n",
       "4            64.0          15.0   \n",
       "\n",
       "                               Screen_resolution             Processor  \\\n",
       "0   2408 x 1080 px Display with Water Drop Notch   Octa Core Processor   \n",
       "1          720 x 1560 px Display with Punch Hole     1.8 GHz Processor   \n",
       "2   1080 x 2408 px Display with Water Drop Notch       2 GHz Processor   \n",
       "3                                  720 x 1600 px             Octa Core   \n",
       "4    720 x 1600 px Display with Water Drop Notch             Octa Core   \n",
       "\n",
       "  Processor_name Android_version_clean Total_Rear_Camera_MP  Front_Camera_MP  \\\n",
       "0    Exynos 1330                  13.0                   52             13.0   \n",
       "1      Octa Core                  10.0                   20              8.0   \n",
       "2      Octa Core                  12.0                   50              8.0   \n",
       "3      Helio G88                  12.0                   48             13.0   \n",
       "4      Helio P35                  11.0                   17              5.0   \n",
       "\n",
       "   Price Range  Rating Category  \n",
       "0    Mid-range             High  \n",
       "1    Mid-range           Medium  \n",
       "2    Mid-range           Medium  \n",
       "3    Mid-range           Medium  \n",
       "4    Mid-range           Medium  \n",
       "\n",
       "[5 rows x 22 columns]"
      ]
     },
     "execution_count": 344,
     "metadata": {},
     "output_type": "execute_result"
    }
   ],
   "source": [
    "df.head()"
   ]
  },
  {
   "cell_type": "code",
   "execution_count": 345,
   "id": "a5c9b591",
   "metadata": {},
   "outputs": [
    {
     "data": {
      "text/plain": [
       "0        34996.5\n",
       "1        34965.0\n",
       "2        41996.5\n",
       "3        41996.5\n",
       "4        41996.5\n",
       "          ...   \n",
       "1365     66496.5\n",
       "1366     87465.0\n",
       "1367     83965.0\n",
       "1368     78746.5\n",
       "1369    419965.0\n",
       "Name: Price, Length: 1370, dtype: float64"
      ]
     },
     "execution_count": 345,
     "metadata": {},
     "output_type": "execute_result"
    }
   ],
   "source": [
    "df['Price']"
   ]
  },
  {
   "cell_type": "code",
   "execution_count": 346,
   "id": "32b6743f",
   "metadata": {},
   "outputs": [
    {
     "data": {
      "image/png": "[encoded data removed]",
      "text/plain": [
       "<Figure size 1200x800 with 2 Axes>"
      ]
     },
     "metadata": {},
     "output_type": "display_data"
    }
   ],
   "source": [
    "corr = df[['Ram', 'Battery', 'Display', 'Spec_score', 'Rating', 'Android_version_clean', 'Inbuilt_memory', 'fast_charging', 'Total_Rear_Camera_MP', 'Front_Camera_MP', 'Price']].corr()\n",
    "plt.figure(figsize=(12, 8))\n",
    "sns.set_style(\"whitegrid\")\n",
    "sns.heatmap(corr, annot=True, cmap='coolwarm')\n",
    "plt.show()"
   ]
  },
  {
   "cell_type": "code",
   "execution_count": null,
   "id": "195c34fb",
   "metadata": {},
   "outputs": [],
   "source": []
  },
  {
   "cell_type": "markdown",
   "id": "cea167a4",
   "metadata": {},
   "source": [
    "## Normalization\n",
    "#### Min-Max Scaling: Transforms features to a specific range, typically [0, 1]\n"
   ]
  },
  {
   "cell_type": "code",
   "execution_count": 351,
   "id": "a5246af1",
   "metadata": {},
   "outputs": [
    {
     "data": {
      "text/html": [
       "<div>\n",
       "<style scoped>\n",
       "    .dataframe tbody tr th:only-of-type {\n",
       "        vertical-align: middle;\n",
       "    }\n",
       "\n",
       "    .dataframe tbody tr th {\n",
       "        vertical-align: top;\n",
       "    }\n",
       "\n",
       "    .dataframe thead th {\n",
       "        text-align: right;\n",
       "    }\n",
       "</style>\n",
       "<table border=\"1\" class=\"dataframe\">\n",
       "  <thead>\n",
       "    <tr style=\"text-align: right;\">\n",
       "      <th></th>\n",
       "      <th>Unnamed: 0</th>\n",
       "      <th>Name</th>\n",
       "      <th>Rating</th>\n",
       "      <th>Spec_score</th>\n",
       "      <th>No_of_sim</th>\n",
       "      <th>Ram</th>\n",
       "      <th>Battery</th>\n",
       "      <th>Display</th>\n",
       "      <th>Camera</th>\n",
       "      <th>Android_version</th>\n",
       "      <th>...</th>\n",
       "      <th>fast_charging</th>\n",
       "      <th>Screen_resolution</th>\n",
       "      <th>Processor</th>\n",
       "      <th>Processor_name</th>\n",
       "      <th>Android_version_clean</th>\n",
       "      <th>Total_Rear_Camera_MP</th>\n",
       "      <th>Front_Camera_MP</th>\n",
       "      <th>Price Range</th>\n",
       "      <th>Rating Category</th>\n",
       "      <th>Price_category</th>\n",
       "    </tr>\n",
       "  </thead>\n",
       "  <tbody>\n",
       "    <tr>\n",
       "      <th>0</th>\n",
       "      <td>0</td>\n",
       "      <td>Samsung Galaxy F14 5G</td>\n",
       "      <td>0.90</td>\n",
       "      <td>0.464286</td>\n",
       "      <td>Dual Sim, 3G, 4G, 5G, VoLTE,</td>\n",
       "      <td>0.130435</td>\n",
       "      <td>0.476744</td>\n",
       "      <td>0.276316</td>\n",
       "      <td>50 MP + 2 MP Dual Rear &amp;amp; 13 MP Front Camera</td>\n",
       "      <td>13</td>\n",
       "      <td>...</td>\n",
       "      <td>0.072165</td>\n",
       "      <td>2408 x 1080 px Display with Water Drop Notch</td>\n",
       "      <td>Octa Core Processor</td>\n",
       "      <td>Exynos 1330</td>\n",
       "      <td>0.846154</td>\n",
       "      <td>0.165605</td>\n",
       "      <td>0.189655</td>\n",
       "      <td>Mid-range</td>\n",
       "      <td>High</td>\n",
       "      <td>Medium</td>\n",
       "    </tr>\n",
       "    <tr>\n",
       "      <th>1</th>\n",
       "      <td>1</td>\n",
       "      <td>Samsung Galaxy A11</td>\n",
       "      <td>0.45</td>\n",
       "      <td>0.375000</td>\n",
       "      <td>Dual Sim, 3G, 4G, VoLTE,</td>\n",
       "      <td>0.043478</td>\n",
       "      <td>0.244186</td>\n",
       "      <td>0.250000</td>\n",
       "      <td>13 MP + 5 MP + 2 MP Triple Rear &amp;amp; 8 MP Fro...</td>\n",
       "      <td>10</td>\n",
       "      <td>...</td>\n",
       "      <td>0.030928</td>\n",
       "      <td>720 x 1560 px Display with Punch Hole</td>\n",
       "      <td>1.8 GHz Processor</td>\n",
       "      <td>Octa Core</td>\n",
       "      <td>0.615385</td>\n",
       "      <td>0.063694</td>\n",
       "      <td>0.103448</td>\n",
       "      <td>Mid-range</td>\n",
       "      <td>Medium</td>\n",
       "      <td>Medium</td>\n",
       "    </tr>\n",
       "    <tr>\n",
       "      <th>2</th>\n",
       "      <td>2</td>\n",
       "      <td>Samsung Galaxy A13</td>\n",
       "      <td>0.55</td>\n",
       "      <td>0.589286</td>\n",
       "      <td>Dual Sim, 3G, 4G, VoLTE,</td>\n",
       "      <td>0.130435</td>\n",
       "      <td>0.360465</td>\n",
       "      <td>0.276316</td>\n",
       "      <td>50 MP Quad Rear &amp;amp; 8 MP Front Camera</td>\n",
       "      <td>12</td>\n",
       "      <td>...</td>\n",
       "      <td>0.072165</td>\n",
       "      <td>1080 x 2408 px Display with Water Drop Notch</td>\n",
       "      <td>2 GHz Processor</td>\n",
       "      <td>Octa Core</td>\n",
       "      <td>0.769231</td>\n",
       "      <td>0.159236</td>\n",
       "      <td>0.103448</td>\n",
       "      <td>Mid-range</td>\n",
       "      <td>Medium</td>\n",
       "      <td>Medium</td>\n",
       "    </tr>\n",
       "    <tr>\n",
       "      <th>3</th>\n",
       "      <td>3</td>\n",
       "      <td>Samsung Galaxy F23</td>\n",
       "      <td>0.35</td>\n",
       "      <td>0.553571</td>\n",
       "      <td>Dual Sim, 3G, 4G, VoLTE,</td>\n",
       "      <td>0.130435</td>\n",
       "      <td>0.476744</td>\n",
       "      <td>0.250000</td>\n",
       "      <td>48 MP Quad Rear &amp;amp; 13 MP Front Camera</td>\n",
       "      <td>12</td>\n",
       "      <td>...</td>\n",
       "      <td>0.043299</td>\n",
       "      <td>720 x 1600 px</td>\n",
       "      <td>Octa Core</td>\n",
       "      <td>Helio G88</td>\n",
       "      <td>0.769231</td>\n",
       "      <td>0.152866</td>\n",
       "      <td>0.189655</td>\n",
       "      <td>Mid-range</td>\n",
       "      <td>Medium</td>\n",
       "      <td>Medium</td>\n",
       "    </tr>\n",
       "    <tr>\n",
       "      <th>4</th>\n",
       "      <td>4</td>\n",
       "      <td>Samsung Galaxy A03s (4GB RAM + 64GB)</td>\n",
       "      <td>0.35</td>\n",
       "      <td>0.482143</td>\n",
       "      <td>Dual Sim, 3G, 4G, VoLTE,</td>\n",
       "      <td>0.130435</td>\n",
       "      <td>0.360465</td>\n",
       "      <td>0.263158</td>\n",
       "      <td>13 MP + 2 MP + 2 MP Triple Rear &amp;amp; 5 MP Fro...</td>\n",
       "      <td>11</td>\n",
       "      <td>...</td>\n",
       "      <td>0.030928</td>\n",
       "      <td>720 x 1600 px Display with Water Drop Notch</td>\n",
       "      <td>Octa Core</td>\n",
       "      <td>Helio P35</td>\n",
       "      <td>0.692308</td>\n",
       "      <td>0.054140</td>\n",
       "      <td>0.051724</td>\n",
       "      <td>Mid-range</td>\n",
       "      <td>Medium</td>\n",
       "      <td>Medium</td>\n",
       "    </tr>\n",
       "  </tbody>\n",
       "</table>\n",
       "<p>5 rows × 23 columns</p>\n",
       "</div>"
      ],
      "text/plain": [
       "   Unnamed: 0                                  Name  Rating  Spec_score  \\\n",
       "0           0                 Samsung Galaxy F14 5G    0.90    0.464286   \n",
       "1           1                    Samsung Galaxy A11    0.45    0.375000   \n",
       "2           2                    Samsung Galaxy A13    0.55    0.589286   \n",
       "3           3                    Samsung Galaxy F23    0.35    0.553571   \n",
       "4           4  Samsung Galaxy A03s (4GB RAM + 64GB)    0.35    0.482143   \n",
       "\n",
       "                       No_of_sim       Ram   Battery   Display  \\\n",
       "0  Dual Sim, 3G, 4G, 5G, VoLTE,   0.130435  0.476744  0.276316   \n",
       "1      Dual Sim, 3G, 4G, VoLTE,   0.043478  0.244186  0.250000   \n",
       "2      Dual Sim, 3G, 4G, VoLTE,   0.130435  0.360465  0.276316   \n",
       "3      Dual Sim, 3G, 4G, VoLTE,   0.130435  0.476744  0.250000   \n",
       "4      Dual Sim, 3G, 4G, VoLTE,   0.130435  0.360465  0.263158   \n",
       "\n",
       "                                              Camera Android_version  ...  \\\n",
       "0    50 MP + 2 MP Dual Rear &amp; 13 MP Front Camera              13  ...   \n",
       "1  13 MP + 5 MP + 2 MP Triple Rear &amp; 8 MP Fro...              10  ...   \n",
       "2            50 MP Quad Rear &amp; 8 MP Front Camera              12  ...   \n",
       "3           48 MP Quad Rear &amp; 13 MP Front Camera              12  ...   \n",
       "4  13 MP + 2 MP + 2 MP Triple Rear &amp; 5 MP Fro...              11  ...   \n",
       "\n",
       "   fast_charging                              Screen_resolution  \\\n",
       "0       0.072165   2408 x 1080 px Display with Water Drop Notch   \n",
       "1       0.030928          720 x 1560 px Display with Punch Hole   \n",
       "2       0.072165   1080 x 2408 px Display with Water Drop Notch   \n",
       "3       0.043299                                  720 x 1600 px   \n",
       "4       0.030928    720 x 1600 px Display with Water Drop Notch   \n",
       "\n",
       "              Processor  Processor_name Android_version_clean  \\\n",
       "0   Octa Core Processor     Exynos 1330              0.846154   \n",
       "1     1.8 GHz Processor       Octa Core              0.615385   \n",
       "2       2 GHz Processor       Octa Core              0.769231   \n",
       "3             Octa Core       Helio G88              0.769231   \n",
       "4             Octa Core       Helio P35              0.692308   \n",
       "\n",
       "  Total_Rear_Camera_MP Front_Camera_MP  Price Range  Rating Category  \\\n",
       "0             0.165605        0.189655    Mid-range             High   \n",
       "1             0.063694        0.103448    Mid-range           Medium   \n",
       "2             0.159236        0.103448    Mid-range           Medium   \n",
       "3             0.152866        0.189655    Mid-range           Medium   \n",
       "4             0.054140        0.051724    Mid-range           Medium   \n",
       "\n",
       "   Price_category  \n",
       "0          Medium  \n",
       "1          Medium  \n",
       "2          Medium  \n",
       "3          Medium  \n",
       "4          Medium  \n",
       "\n",
       "[5 rows x 23 columns]"
      ]
     },
     "execution_count": 351,
     "metadata": {},
     "output_type": "execute_result"
    }
   ],
   "source": [
    "from sklearn.preprocessing import MinMaxScaler\n",
    "\n",
    "# Select the columns to normalize (excluding non-numerical columns like 'Name')\n",
    "features_to_normalize = ['Ram', 'Battery', 'Display', 'Spec_score', 'Rating', 'Android_version_clean', 'Inbuilt_memory', 'fast_charging', 'Total_Rear_Camera_MP', 'Front_Camera_MP']\n",
    "\n",
    "# Initialize the MinMaxScaler\n",
    "scaler = MinMaxScaler()\n",
    "\n",
    "# Fit and transform the selected features\n",
    "df[features_to_normalize] = scaler.fit_transform(df[features_to_normalize])\n",
    "\n",
    "df.head()"
   ]
  },
  {
   "cell_type": "markdown",
   "id": "2b753857",
   "metadata": {},
   "source": [
    "## Classification Price Categories  "
   ]
  },
  {
   "cell_type": "code",
   "execution_count": 348,
   "id": "7913b3d3",
   "metadata": {},
   "outputs": [
    {
     "data": {
      "text/html": [
       "<div>\n",
       "<style scoped>\n",
       "    .dataframe tbody tr th:only-of-type {\n",
       "        vertical-align: middle;\n",
       "    }\n",
       "\n",
       "    .dataframe tbody tr th {\n",
       "        vertical-align: top;\n",
       "    }\n",
       "\n",
       "    .dataframe thead th {\n",
       "        text-align: right;\n",
       "    }\n",
       "</style>\n",
       "<table border=\"1\" class=\"dataframe\">\n",
       "  <thead>\n",
       "    <tr style=\"text-align: right;\">\n",
       "      <th></th>\n",
       "      <th>Price</th>\n",
       "      <th>Price_category</th>\n",
       "    </tr>\n",
       "  </thead>\n",
       "  <tbody>\n",
       "    <tr>\n",
       "      <th>0</th>\n",
       "      <td>34996.5</td>\n",
       "      <td>Medium</td>\n",
       "    </tr>\n",
       "    <tr>\n",
       "      <th>1</th>\n",
       "      <td>34965.0</td>\n",
       "      <td>Medium</td>\n",
       "    </tr>\n",
       "    <tr>\n",
       "      <th>2</th>\n",
       "      <td>41996.5</td>\n",
       "      <td>Medium</td>\n",
       "    </tr>\n",
       "    <tr>\n",
       "      <th>3</th>\n",
       "      <td>41996.5</td>\n",
       "      <td>Medium</td>\n",
       "    </tr>\n",
       "    <tr>\n",
       "      <th>4</th>\n",
       "      <td>41996.5</td>\n",
       "      <td>Medium</td>\n",
       "    </tr>\n",
       "  </tbody>\n",
       "</table>\n",
       "</div>"
      ],
      "text/plain": [
       "     Price Price_category\n",
       "0  34996.5         Medium\n",
       "1  34965.0         Medium\n",
       "2  41996.5         Medium\n",
       "3  41996.5         Medium\n",
       "4  41996.5         Medium"
      ]
     },
     "execution_count": 348,
     "metadata": {},
     "output_type": "execute_result"
    }
   ],
   "source": [
    "# Create bins for price categories (e.g., Low, Medium, High)\n",
    "bins = [0, 25000, 75000, 500000]\n",
    "labels = ['Low', 'Medium', 'High']\n",
    "\n",
    "# Add a new column with the categorized price\n",
    "df['Price_category'] = pd.cut(df['Price'], bins=bins, labels=labels)\n",
    "\n",
    "# Display the updated DataFrame\n",
    "df[['Price', 'Price_category']].head()"
   ]
  },
  {
   "cell_type": "markdown",
   "id": "1bc35fb8",
   "metadata": {},
   "source": [
    "#### Split the Data into Features and Target "
   ]
  },
  {
   "cell_type": "code",
   "execution_count": 364,
   "id": "9a48960c",
   "metadata": {},
   "outputs": [
    {
     "name": "stdout",
     "output_type": "stream",
     "text": [
      "(1096, 2) (274, 2) (1096,) (274,)\n"
     ]
    }
   ],
   "source": [
    "from sklearn.model_selection import train_test_split\n",
    "\n",
    "features_to_normalize1 = ['Ram', 'Battery', 'Display', 'Android_version_clean', 'Inbuilt_memory', 'fast_charging', 'Total_Rear_Camera_MP', 'Front_Camera_MP']\n",
    "\n",
    "# Define features and target (Price_category)\n",
    "X = df[features_to_normalize1]  # Features are still the normalized columns\n",
    "y = df['Price_category']  # Target is now the categorized price\n",
    "\n",
    "# Split the data into training and testing sets\n",
    "X_train, X_test, y_train, y_test = train_test_split(X, y, test_size=0.2, random_state=42)\n",
    "\n",
    "# Check the shapes of the splits\n",
    "print(X_train.shape, X_test.shape, y_train.shape, y_test.shape)"
   ]
  },
  {
   "cell_type": "markdown",
   "id": "3e708d9a",
   "metadata": {},
   "source": [
    "#### Classification Model Logistic Regression "
   ]
  },
  {
   "cell_type": "code",
   "execution_count": 373,
   "id": "96051772",
   "metadata": {},
   "outputs": [],
   "source": [
    "#from sklearn.linear_model import LogisticRegression\n",
    "#from sklearn.metrics import accuracy_score, classification_report\n",
    "\n",
    "# Initialize the model\n",
    "#clf = LogisticRegression()\n",
    "\n",
    "# Train the model\n",
    "#clf.fit(X_train, y_train)\n",
    "\n",
    "# Make predictions on the test set\n",
    "#y_pred = clf.predict(X_test)\n",
    "\n",
    "# Evaluate the model's performance\n",
    "#accuracy = accuracy_score(y_test, y_pred)\n",
    "#print(f\"Accuracy: {accuracy}\")\n",
    "#print(classification_report(y_test, y_pred))"
   ]
  },
  {
   "cell_type": "markdown",
   "id": "3e748f1a",
   "metadata": {},
   "source": [
    "## Predicting smartphone prices (regression)"
   ]
  },
  {
   "cell_type": "code",
   "execution_count": 366,
   "id": "cb518f55",
   "metadata": {},
   "outputs": [
    {
     "name": "stdout",
     "output_type": "stream",
     "text": [
      "(1096, 8) (274, 8) (1096,) (274,)\n"
     ]
    }
   ],
   "source": [
    "from sklearn.model_selection import train_test_split\n",
    "\n",
    "features_to_normalize2 = ['Ram', 'Battery', 'Display', 'Android_version_clean', 'Inbuilt_memory', 'fast_charging', 'Total_Rear_Camera_MP', 'Front_Camera_MP']\n",
    "\n",
    "# Define the features and target\n",
    "X = df[features_to_normalize2]  # Normalized features\n",
    "y = df['Price']  # Target variable (Price)\n",
    "\n",
    "# Split the data into training and testing sets (80% train, 20% test)\n",
    "X_train, X_test, y_train, y_test = train_test_split(X, y, test_size=0.2, random_state=42)\n",
    "\n",
    "# Show the shapes of the resulting splits\n",
    "print(X_train.shape, X_test.shape, y_train.shape, y_test.shape)\n"
   ]
  },
  {
   "cell_type": "markdown",
   "id": "2ea1d3ba",
   "metadata": {},
   "source": [
    "#### Linear Regression "
   ]
  },
  {
   "cell_type": "code",
   "execution_count": 367,
   "id": "573dc7c6",
   "metadata": {},
   "outputs": [],
   "source": [
    "from sklearn.linear_model import LinearRegression\n",
    "\n",
    "# Initialize the model\n",
    "model = LinearRegression()\n",
    "\n",
    "# Train the model on the training data\n",
    "model.fit(X_train, y_train)\n",
    "\n",
    "# Make predictions on the test data\n",
    "y_pred = model.predict(X_test)"
   ]
  },
  {
   "cell_type": "markdown",
   "id": "2a29fa50",
   "metadata": {},
   "source": [
    "#### Evaluation Metrics "
   ]
  },
  {
   "cell_type": "code",
   "execution_count": 368,
   "id": "bb707d79",
   "metadata": {},
   "outputs": [
    {
     "name": "stdout",
     "output_type": "stream",
     "text": [
      "Mean Absolute Error: 44689.13344019647\n",
      "Mean Squared Error: 4325203702.794952\n",
      "R-squared: 0.6083617550208051\n"
     ]
    }
   ],
   "source": [
    "from sklearn.metrics import mean_absolute_error, mean_squared_error, r2_score\n",
    "\n",
    "# Calculate evaluation metrics\n",
    "mae = mean_absolute_error(y_test, y_pred)\n",
    "mse = mean_squared_error(y_test, y_pred)\n",
    "r2 = r2_score(y_test, y_pred)\n",
    "\n",
    "# Print the results\n",
    "print(f\"Mean Absolute Error: {mae}\")\n",
    "print(f\"Mean Squared Error: {mse}\")\n",
    "print(f\"R-squared: {r2}\")\n"
   ]
  },
  {
   "cell_type": "markdown",
   "id": "8143d400",
   "metadata": {},
   "source": [
    "## Checking the Predictions "
   ]
  },
  {
   "cell_type": "code",
   "execution_count": 370,
   "id": "ab22d5bf",
   "metadata": {},
   "outputs": [
    {
     "name": "stdout",
     "output_type": "stream",
     "text": [
      "        Actual      Predicted\n",
      "427   101496.5  201440.069486\n",
      "1088  108496.5  106826.737056\n",
      "668   255496.5  206427.006805\n",
      "572    97965.0  161415.150565\n",
      "115    41965.0   20020.260790\n"
     ]
    }
   ],
   "source": [
    "# Make predictions on the test set\n",
    "y_pred = model.predict(X_test)\n",
    "\n",
    "# Compare the first few predicted values with the actual values\n",
    "comparison_df = pd.DataFrame({'Actual': y_test, 'Predicted': y_pred})\n",
    "\n",
    "# Show the comparison for the first few test samples\n",
    "print(comparison_df.head())\n"
   ]
  },
  {
   "cell_type": "markdown",
   "id": "60009519",
   "metadata": {},
   "source": [
    "## Visualizing the Predictions "
   ]
  },
  {
   "cell_type": "code",
   "execution_count": 371,
   "id": "4f80b545",
   "metadata": {},
   "outputs": [
    {
     "data": {
      "image/png": "[encoded data removed]",
      "text/plain": [
       "<Figure size 640x480 with 1 Axes>"
      ]
     },
     "metadata": {},
     "output_type": "display_data"
    }
   ],
   "source": [
    "import matplotlib.pyplot as plt\n",
    "\n",
    "# Plotting actual vs predicted values\n",
    "plt.scatter(y_test, y_pred)\n",
    "plt.xlabel('Actual Values')\n",
    "plt.ylabel('Predicted Values')\n",
    "plt.title('Actual vs Predicted')\n",
    "plt.show()\n"
   ]
  },
  {
   "cell_type": "markdown",
   "id": "b12a5b3e",
   "metadata": {},
   "source": [
    "## Saving the Model Using pickle"
   ]
  },
  {
   "cell_type": "code",
   "execution_count": 372,
   "id": "5e21c3d1",
   "metadata": {},
   "outputs": [],
   "source": [
    "import pickle\n",
    "\n",
    "# Saving the model to a file\n",
    "with open('smartphone_price_model.pkl', 'wb') as file:\n",
    "    pickle.dump(model, file)\n",
    "\n",
    "# Loading the saved model later\n",
    "with open('smartphone_price_model.pkl', 'rb') as file:\n",
    "    loaded_model = pickle.load(file)\n",
    "\n",
    "# Using the loaded model to make predictions\n",
    "new_predictions = loaded_model.predict(X_test)\n"
   ]
  },
  {
   "cell_type": "markdown",
   "id": "028ab9aa",
   "metadata": {},
   "source": [
    "# Predictions on new data"
   ]
  },
  {
   "cell_type": "code",
   "execution_count": 374,
   "id": "9ff1d763",
   "metadata": {},
   "outputs": [],
   "source": [
    "import pickle\n",
    "\n",
    "# Load the saved model from the file\n",
    "with open('smartphone_price_model.pkl', 'rb') as file:\n",
    "    model = pickle.load(file)"
   ]
  },
  {
   "cell_type": "code",
   "execution_count": 383,
   "id": "4d34c37f",
   "metadata": {},
   "outputs": [
    {
     "name": "stdout",
     "output_type": "stream",
     "text": [
      "Predicted price for Smartphone 1: -2284778389.81992\n",
      "Predicted price for Smartphone 2: -2040380838.7566924\n",
      "Predicted price for Smartphone 3: -1783443081.2721806\n"
     ]
    },
    {
     "name": "stderr",
     "output_type": "stream",
     "text": [
      "C:\\Users\\DELL\\anaconda3\\Lib\\site-packages\\sklearn\\base.py:464: UserWarning: X does not have valid feature names, but LinearRegression was fitted with feature names\n",
      "  warnings.warn(\n"
     ]
    }
   ],
   "source": [
    "# Example new data for multiple smartphones\n",
    "new_smartphones = [\n",
    "    [4, 5000, 6.5, 12.0, 128, 25, 48, 13],  # Smartphone 1\n",
    "    [6, 4500, 6.7, 11.0, 256, 30, 64, 16],  # Smartphone 2\n",
    "    [8, 4000, 6.1, 13.0, 512, 18, 108, 20]  # Smartphone 3\n",
    "]\n",
    "#['Ram', 'Battery', 'Display', 'Android_version_clean', 'Inbuilt_memory', 'fast_charging', 'Total_Rear_Camera_MP', 'Front_Camera_MP']\n",
    "\n",
    "# Make predictions on the new data using the loaded model\n",
    "predicted_prices = model.predict(new_smartphones)\n",
    "\n",
    "# Print the predicted prices for the new smartphones\n",
    "for i, price in enumerate(predicted_prices):\n",
    "    print(f\"Predicted price for Smartphone {i+1}: {price}\")\n"
   ]
  },
  {
   "cell_type": "code",
   "execution_count": 385,
   "id": "7f1d4d92",
   "metadata": {},
   "outputs": [
    {
     "name": "stderr",
     "output_type": "stream",
     "text": [
      "C:\\Users\\DELL\\anaconda3\\Lib\\site-packages\\sklearn\\base.py:464: UserWarning: X does not have valid feature names, but MinMaxScaler was fitted with feature names\n",
      "  warnings.warn(\n"
     ]
    },
    {
     "ename": "ValueError",
     "evalue": "X has 8 features, but MinMaxScaler is expecting 10 features as input.",
     "output_type": "error",
     "traceback": [
      "\u001b[1;31m---------------------------------------------------------------------------\u001b[0m",
      "\u001b[1;31mValueError\u001b[0m                                Traceback (most recent call last)",
      "Cell \u001b[1;32mIn[385], line 16\u001b[0m\n\u001b[0;32m      9\u001b[0m     new_smartphones1 \u001b[38;5;241m=\u001b[39m [\n\u001b[0;32m     10\u001b[0m     [\u001b[38;5;241m4\u001b[39m, \u001b[38;5;241m5000\u001b[39m, \u001b[38;5;241m6.5\u001b[39m, \u001b[38;5;241m12.0\u001b[39m, \u001b[38;5;241m128\u001b[39m, \u001b[38;5;241m25\u001b[39m, \u001b[38;5;241m48\u001b[39m, \u001b[38;5;241m13\u001b[39m],  \u001b[38;5;66;03m# Smartphone 1\u001b[39;00m\n\u001b[0;32m     11\u001b[0m     [\u001b[38;5;241m6\u001b[39m, \u001b[38;5;241m4500\u001b[39m, \u001b[38;5;241m6.7\u001b[39m, \u001b[38;5;241m11.0\u001b[39m, \u001b[38;5;241m256\u001b[39m, \u001b[38;5;241m30\u001b[39m, \u001b[38;5;241m64\u001b[39m, \u001b[38;5;241m16\u001b[39m],  \u001b[38;5;66;03m# Smartphone 2\u001b[39;00m\n\u001b[0;32m     12\u001b[0m     [\u001b[38;5;241m8\u001b[39m, \u001b[38;5;241m4000\u001b[39m, \u001b[38;5;241m6.1\u001b[39m, \u001b[38;5;241m13.0\u001b[39m, \u001b[38;5;241m512\u001b[39m, \u001b[38;5;241m18\u001b[39m, \u001b[38;5;241m108\u001b[39m, \u001b[38;5;241m20\u001b[39m]  \u001b[38;5;66;03m# Smartphone 3\u001b[39;00m\n\u001b[0;32m     13\u001b[0m ]\n\u001b[0;32m     15\u001b[0m \u001b[38;5;66;03m# Scale the new data before making predictions\u001b[39;00m\n\u001b[1;32m---> 16\u001b[0m new_smartphones_scaled \u001b[38;5;241m=\u001b[39m scaler\u001b[38;5;241m.\u001b[39mtransform(new_smartphones1)\n\u001b[0;32m     18\u001b[0m \u001b[38;5;66;03m# Make predictions on the scaled data\u001b[39;00m\n\u001b[0;32m     19\u001b[0m predicted_prices \u001b[38;5;241m=\u001b[39m model\u001b[38;5;241m.\u001b[39mpredict(new_smartphones_scaled)\n",
      "File \u001b[1;32m~\\anaconda3\\Lib\\site-packages\\sklearn\\utils\\_set_output.py:140\u001b[0m, in \u001b[0;36m_wrap_method_output.<locals>.wrapped\u001b[1;34m(self, X, *args, **kwargs)\u001b[0m\n\u001b[0;32m    138\u001b[0m \u001b[38;5;129m@wraps\u001b[39m(f)\n\u001b[0;32m    139\u001b[0m \u001b[38;5;28;01mdef\u001b[39;00m \u001b[38;5;21mwrapped\u001b[39m(\u001b[38;5;28mself\u001b[39m, X, \u001b[38;5;241m*\u001b[39margs, \u001b[38;5;241m*\u001b[39m\u001b[38;5;241m*\u001b[39mkwargs):\n\u001b[1;32m--> 140\u001b[0m     data_to_wrap \u001b[38;5;241m=\u001b[39m f(\u001b[38;5;28mself\u001b[39m, X, \u001b[38;5;241m*\u001b[39margs, \u001b[38;5;241m*\u001b[39m\u001b[38;5;241m*\u001b[39mkwargs)\n\u001b[0;32m    141\u001b[0m     \u001b[38;5;28;01mif\u001b[39;00m \u001b[38;5;28misinstance\u001b[39m(data_to_wrap, \u001b[38;5;28mtuple\u001b[39m):\n\u001b[0;32m    142\u001b[0m         \u001b[38;5;66;03m# only wrap the first output for cross decomposition\u001b[39;00m\n\u001b[0;32m    143\u001b[0m         return_tuple \u001b[38;5;241m=\u001b[39m (\n\u001b[0;32m    144\u001b[0m             _wrap_data_with_container(method, data_to_wrap[\u001b[38;5;241m0\u001b[39m], X, \u001b[38;5;28mself\u001b[39m),\n\u001b[0;32m    145\u001b[0m             \u001b[38;5;241m*\u001b[39mdata_to_wrap[\u001b[38;5;241m1\u001b[39m:],\n\u001b[0;32m    146\u001b[0m         )\n",
      "File \u001b[1;32m~\\anaconda3\\Lib\\site-packages\\sklearn\\preprocessing\\_data.py:514\u001b[0m, in \u001b[0;36mMinMaxScaler.transform\u001b[1;34m(self, X)\u001b[0m\n\u001b[0;32m    500\u001b[0m \u001b[38;5;250m\u001b[39m\u001b[38;5;124;03m\"\"\"Scale features of X according to feature_range.\u001b[39;00m\n\u001b[0;32m    501\u001b[0m \n\u001b[0;32m    502\u001b[0m \u001b[38;5;124;03mParameters\u001b[39;00m\n\u001b[1;32m   (...)\u001b[0m\n\u001b[0;32m    510\u001b[0m \u001b[38;5;124;03m    Transformed data.\u001b[39;00m\n\u001b[0;32m    511\u001b[0m \u001b[38;5;124;03m\"\"\"\u001b[39;00m\n\u001b[0;32m    512\u001b[0m check_is_fitted(\u001b[38;5;28mself\u001b[39m)\n\u001b[1;32m--> 514\u001b[0m X \u001b[38;5;241m=\u001b[39m \u001b[38;5;28mself\u001b[39m\u001b[38;5;241m.\u001b[39m_validate_data(\n\u001b[0;32m    515\u001b[0m     X,\n\u001b[0;32m    516\u001b[0m     copy\u001b[38;5;241m=\u001b[39m\u001b[38;5;28mself\u001b[39m\u001b[38;5;241m.\u001b[39mcopy,\n\u001b[0;32m    517\u001b[0m     dtype\u001b[38;5;241m=\u001b[39mFLOAT_DTYPES,\n\u001b[0;32m    518\u001b[0m     force_all_finite\u001b[38;5;241m=\u001b[39m\u001b[38;5;124m\"\u001b[39m\u001b[38;5;124mallow-nan\u001b[39m\u001b[38;5;124m\"\u001b[39m,\n\u001b[0;32m    519\u001b[0m     reset\u001b[38;5;241m=\u001b[39m\u001b[38;5;28;01mFalse\u001b[39;00m,\n\u001b[0;32m    520\u001b[0m )\n\u001b[0;32m    522\u001b[0m X \u001b[38;5;241m*\u001b[39m\u001b[38;5;241m=\u001b[39m \u001b[38;5;28mself\u001b[39m\u001b[38;5;241m.\u001b[39mscale_\n\u001b[0;32m    523\u001b[0m X \u001b[38;5;241m+\u001b[39m\u001b[38;5;241m=\u001b[39m \u001b[38;5;28mself\u001b[39m\u001b[38;5;241m.\u001b[39mmin_\n",
      "File \u001b[1;32m~\\anaconda3\\Lib\\site-packages\\sklearn\\base.py:625\u001b[0m, in \u001b[0;36mBaseEstimator._validate_data\u001b[1;34m(self, X, y, reset, validate_separately, cast_to_ndarray, **check_params)\u001b[0m\n\u001b[0;32m    622\u001b[0m     out \u001b[38;5;241m=\u001b[39m X, y\n\u001b[0;32m    624\u001b[0m \u001b[38;5;28;01mif\u001b[39;00m \u001b[38;5;129;01mnot\u001b[39;00m no_val_X \u001b[38;5;129;01mand\u001b[39;00m check_params\u001b[38;5;241m.\u001b[39mget(\u001b[38;5;124m\"\u001b[39m\u001b[38;5;124mensure_2d\u001b[39m\u001b[38;5;124m\"\u001b[39m, \u001b[38;5;28;01mTrue\u001b[39;00m):\n\u001b[1;32m--> 625\u001b[0m     \u001b[38;5;28mself\u001b[39m\u001b[38;5;241m.\u001b[39m_check_n_features(X, reset\u001b[38;5;241m=\u001b[39mreset)\n\u001b[0;32m    627\u001b[0m \u001b[38;5;28;01mreturn\u001b[39;00m out\n",
      "File \u001b[1;32m~\\anaconda3\\Lib\\site-packages\\sklearn\\base.py:414\u001b[0m, in \u001b[0;36mBaseEstimator._check_n_features\u001b[1;34m(self, X, reset)\u001b[0m\n\u001b[0;32m    411\u001b[0m     \u001b[38;5;28;01mreturn\u001b[39;00m\n\u001b[0;32m    413\u001b[0m \u001b[38;5;28;01mif\u001b[39;00m n_features \u001b[38;5;241m!=\u001b[39m \u001b[38;5;28mself\u001b[39m\u001b[38;5;241m.\u001b[39mn_features_in_:\n\u001b[1;32m--> 414\u001b[0m     \u001b[38;5;28;01mraise\u001b[39;00m \u001b[38;5;167;01mValueError\u001b[39;00m(\n\u001b[0;32m    415\u001b[0m         \u001b[38;5;124mf\u001b[39m\u001b[38;5;124m\"\u001b[39m\u001b[38;5;124mX has \u001b[39m\u001b[38;5;132;01m{\u001b[39;00mn_features\u001b[38;5;132;01m}\u001b[39;00m\u001b[38;5;124m features, but \u001b[39m\u001b[38;5;132;01m{\u001b[39;00m\u001b[38;5;28mself\u001b[39m\u001b[38;5;241m.\u001b[39m\u001b[38;5;18m__class__\u001b[39m\u001b[38;5;241m.\u001b[39m\u001b[38;5;18m__name__\u001b[39m\u001b[38;5;132;01m}\u001b[39;00m\u001b[38;5;124m \u001b[39m\u001b[38;5;124m\"\u001b[39m\n\u001b[0;32m    416\u001b[0m         \u001b[38;5;124mf\u001b[39m\u001b[38;5;124m\"\u001b[39m\u001b[38;5;124mis expecting \u001b[39m\u001b[38;5;132;01m{\u001b[39;00m\u001b[38;5;28mself\u001b[39m\u001b[38;5;241m.\u001b[39mn_features_in_\u001b[38;5;132;01m}\u001b[39;00m\u001b[38;5;124m features as input.\u001b[39m\u001b[38;5;124m\"\u001b[39m\n\u001b[0;32m    417\u001b[0m     )\n",
      "\u001b[1;31mValueError\u001b[0m: X has 8 features, but MinMaxScaler is expecting 10 features as input."
     ]
    }
   ],
   "source": [
    "# Save the scaler after training\n",
    "with open('scaler.pkl', 'wb') as file:\n",
    "    pickle.dump(scaler, file)\n",
    "\n",
    "# Load the scaler before making predictions\n",
    "with open('scaler.pkl', 'rb') as file:\n",
    "    scaler = pickle.load(file)\n",
    "\n",
    "    new_smartphones1 = [\n",
    "    [4, 5000, 6.5, 12.0, 128, 25, 48, 13],  # Smartphone 1\n",
    "    [6, 4500, 6.7, 11.0, 256, 30, 64, 16],  # Smartphone 2\n",
    "    [8, 4000, 6.1, 13.0, 512, 18, 108, 20]  # Smartphone 3\n",
    "]\n",
    "    \n",
    "# Scale the new data before making predictions\n",
    "new_smartphones_scaled = scaler.transform(new_smartphones1)\n",
    "\n",
    "# Make predictions on the scaled data\n",
    "predicted_prices = model.predict(new_smartphones_scaled)\n",
    "\n",
    "# Print the predicted prices\n",
    "for i, price in enumerate(predicted_prices):\n",
    "    print(f\"Predicted price for Smartphone {i+1}: {price}\")\n"
   ]
  },
  {
   "cell_type": "code",
   "execution_count": null,
   "id": "023452f5",
   "metadata": {},
   "outputs": [],
   "source": []
  }
 ],
 "metadata": {
  "kernelspec": {
   "display_name": "Python 3 (ipykernel)",
   "language": "python",
   "name": "python3"
  },
  "language_info": {
   "codemirror_mode": {
    "name": "ipython",
    "version": 3
   },
   "file_extension": ".py",
   "mimetype": "text/x-python",
   "name": "python",
   "nbconvert_exporter": "python",
   "pygments_lexer": "ipython3",
   "version": "3.11.5"
  }
 },
 "nbformat": 4,
 "nbformat_minor": 5
}
